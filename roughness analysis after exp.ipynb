{
 "cells": [
  {
   "cell_type": "markdown",
   "metadata": {},
   "source": [
    "# Injector valves surface roughness analysis\n",
    "Projekt ma na celu zebranie i analizę danych z raportów zawierających wyniki pomiarów parametrów chropowatości powierzchni zaworów sterujących wysokościśnieniowymi wtryskiwaczami paliwa. Paramtery chropowatości zapisane są w postaci plików PDF.\n",
    "\n",
    "## 1. Pobranie danych do analizy\n",
    "\n",
    "### 1.1 Rozpoznanie struktury plików"
   ]
  },
  {
   "cell_type": "code",
   "execution_count": 1,
   "metadata": {},
   "outputs": [],
   "source": [
    "import pandas as pd\n",
    "import numpy as np \n",
    "import matplotlib.pyplot as plt\n",
    "import re\n",
    "import fitz \n",
    "import os "
   ]
  },
  {
   "cell_type": "code",
   "execution_count": 2,
   "metadata": {},
   "outputs": [],
   "source": [
    "# Funkcja analizująca strukturę pliku PDF\n",
    "def analyze_pdf_structure(file_path):\n",
    "    # Otwarcie pliku PDF\n",
    "    doc = fitz.open(file_path)\n",
    "    analysis = []\n",
    "\n",
    "    # Analiza każdej strony w dokumencie\n",
    "    for page_num, page in enumerate(doc):\n",
    "        page_info = {\n",
    "            'Page': page_num + 1,\n",
    "            'Text': page.get_text(\"text\"),\n",
    "            'Image_Count': len(page.get_images()),\n",
    "            'Font_Count': len(page.get_fonts())\n",
    "        }\n",
    "        analysis.append(page_info)\n",
    "\n",
    "    # Zamknięcie dokumentu\n",
    "    doc.close()\n",
    "\n",
    "    return analysis"
   ]
  },
  {
   "cell_type": "code",
   "execution_count": 3,
   "metadata": {},
   "outputs": [
    {
     "name": "stdout",
     "output_type": "stream",
     "text": [
      "Page 1:\n",
      "Text Length: 483\n",
      "Images: 4\n",
      "Fonts: 5\n",
      "\n",
      "Page 2:\n",
      "Text Length: 1025\n",
      "Images: 2\n",
      "Fonts: 5\n",
      "\n",
      "Page 3:\n",
      "Text Length: 597\n",
      "Images: 1\n",
      "Fonts: 5\n",
      "\n",
      "Page 4:\n",
      "Text Length: 1990\n",
      "Images: 1\n",
      "Fonts: 5\n",
      "\n",
      "Page 5:\n",
      "Text Length: 437\n",
      "Images: 1\n",
      "Fonts: 5\n",
      "\n",
      "Page 6:\n",
      "Text Length: 989\n",
      "Images: 3\n",
      "Fonts: 6\n",
      "\n",
      "Page 7:\n",
      "Text Length: 470\n",
      "Images: 4\n",
      "Fonts: 5\n",
      "\n",
      "Page 8:\n",
      "Text Length: 1026\n",
      "Images: 2\n",
      "Fonts: 5\n",
      "\n",
      "Page 9:\n",
      "Text Length: 597\n",
      "Images: 1\n",
      "Fonts: 5\n",
      "\n",
      "Page 10:\n",
      "Text Length: 1996\n",
      "Images: 1\n",
      "Fonts: 5\n",
      "\n",
      "Page 11:\n",
      "Text Length: 435\n",
      "Images: 1\n",
      "Fonts: 5\n",
      "\n",
      "Page 12:\n",
      "Text Length: 1000\n",
      "Images: 3\n",
      "Fonts: 6\n",
      "\n",
      "Page 13:\n",
      "Text Length: 487\n",
      "Images: 4\n",
      "Fonts: 5\n",
      "\n",
      "Page 14:\n",
      "Text Length: 1022\n",
      "Images: 2\n",
      "Fonts: 5\n",
      "\n",
      "Page 15:\n",
      "Text Length: 598\n",
      "Images: 1\n",
      "Fonts: 5\n",
      "\n",
      "Page 16:\n",
      "Text Length: 2054\n",
      "Images: 1\n",
      "Fonts: 5\n",
      "\n",
      "Page 17:\n",
      "Text Length: 375\n",
      "Images: 1\n",
      "Fonts: 5\n",
      "\n",
      "Page 18:\n",
      "Text Length: 991\n",
      "Images: 3\n",
      "Fonts: 6\n",
      "\n",
      "Page 19:\n",
      "Text Length: 470\n",
      "Images: 4\n",
      "Fonts: 5\n",
      "\n",
      "Page 20:\n",
      "Text Length: 1023\n",
      "Images: 2\n",
      "Fonts: 5\n",
      "\n",
      "Page 21:\n",
      "Text Length: 595\n",
      "Images: 1\n",
      "Fonts: 5\n",
      "\n",
      "Page 22:\n",
      "Text Length: 1992\n",
      "Images: 1\n",
      "Fonts: 5\n",
      "\n",
      "Page 23:\n",
      "Text Length: 437\n",
      "Images: 1\n",
      "Fonts: 5\n",
      "\n",
      "Page 24:\n",
      "Text Length: 999\n",
      "Images: 3\n",
      "Fonts: 6\n",
      "\n",
      "Page 25:\n",
      "Text Length: 469\n",
      "Images: 4\n",
      "Fonts: 5\n",
      "\n",
      "Page 26:\n",
      "Text Length: 1021\n",
      "Images: 2\n",
      "Fonts: 5\n",
      "\n",
      "Page 27:\n",
      "Text Length: 596\n",
      "Images: 1\n",
      "Fonts: 5\n",
      "\n",
      "Page 28:\n",
      "Text Length: 1989\n",
      "Images: 1\n",
      "Fonts: 5\n",
      "\n",
      "Page 29:\n",
      "Text Length: 437\n",
      "Images: 1\n",
      "Fonts: 5\n",
      "\n",
      "Page 30:\n",
      "Text Length: 997\n",
      "Images: 3\n",
      "Fonts: 6\n",
      "\n"
     ]
    }
   ],
   "source": [
    "# Scieżka do pliku PDF\n",
    "file_path = r\"51824_1_1.pdf\"\n",
    "\n",
    "# Wywołanie funkcji analizy\n",
    "analysis = analyze_pdf_structure(file_path)\n",
    "\n",
    "# Wyświetlenie wyników analizy\n",
    "for page in analysis:\n",
    "    print(f\"Page {page['Page']}:\\nText Length: {len(page['Text'])}\\nImages: {page['Image_Count']}\\nFonts: {page['Font_Count']}\\n\")"
   ]
  },
  {
   "cell_type": "code",
   "execution_count": 4,
   "metadata": {},
   "outputs": [],
   "source": [
    "# Wyświetlanie zawartości pliku PDF (wyłączone po sprawdzeniu w celu zwiększenia przejrzystości projektu)\n",
    "#from IPython.display import display, Image\n",
    "\n",
    "#doc = fitz.open(file_path)\n",
    "\n",
    "#for page in (doc):\n",
    "    #pix = page.get_pixmap(matrix=fitz.Matrix(0.3, 0.3))  # Ustawienie skali miniatury\n",
    "    #img = Image(data=pix.tobytes(\"png\"))\n",
    "    #display(img)\n",
    "\n",
    "#doc.close()"
   ]
  },
  {
   "cell_type": "markdown",
   "metadata": {},
   "source": [
    "### 1.2 Wyodrębnienie z pliku określonych danych"
   ]
  },
  {
   "cell_type": "code",
   "execution_count": 5,
   "metadata": {},
   "outputs": [],
   "source": [
    "# Funkcja do wyodrębnienia porządanych danych z pliku PDF\n",
    "def extract_data_from_pdf(file_path):\n",
    "    # Otwarcie pliku PDF\n",
    "    doc = fitz.open(file_path)\n",
    "\n",
    "    # Bardzo specyficzny wzorzec do ekstrakcji danych\n",
    "    pattern = re.compile(r'(Ra|Rq|Rt|Rz|Rmax|Rp|Rv|Rc|Rsm|Rsk|Rku|Rdq|Rt/Rz|l|Lc|'\n",
    "                         r'mean Ra|mean Rq|mean Rt|mean Rz|mean Rmax|mean Rp|mean Rv|mean Rc|mean Rsm|mean Rsk|mean Rku|mean Rdq|'\n",
    "                         r'sigma Ra|sigma Rq|sigma Rt|sigma Rz|sigma Rmax|sigma Rp|sigma Rv|sigma Rc|sigma Rsm|sigma Rsk|sigma Rku|sigma Rdq|'\n",
    "                         r'Rk|Rpk|Rvk|Rmr1|Rmr2)\\s+([-\\d.]+)\\s*(nm|µm|%|)?')\n",
    "\n",
    "    data = []\n",
    "\n",
    "    # Przechodzenie przez bloki po 6 stron dla każdego pomiaru\n",
    "    for start_page in range(0, len(doc), 6):\n",
    "        measurement = {}\n",
    "        # Analiza stron 2-6 w każdym bloku (indeksy 1-5)\n",
    "        for page_num in range(1, 6):\n",
    "            page = doc[start_page + page_num]\n",
    "            text = page.get_text(\"text\").replace('\\n', ' ')\n",
    "            params = pattern.findall(text)\n",
    "            for name, value, unit in params:\n",
    "                # Uwzględnienie jednostki, jeśli jest dostępna\n",
    "                measurement_value = f'{value} {unit}'.strip() if unit else value\n",
    "                measurement[f'{name}'] = measurement_value\n",
    "        data.append(measurement)\n",
    "\n",
    "    # Zamknięcie dokumentu\n",
    "    doc.close()\n",
    "\n",
    "    # Konwersja danych do DataFrame\n",
    "    df = pd.DataFrame(data)\n",
    "    \n",
    "    return df\n"
   ]
  },
  {
   "cell_type": "code",
   "execution_count": 6,
   "metadata": {},
   "outputs": [
    {
     "data": {
      "text/html": [
       "<div>\n",
       "<style scoped>\n",
       "    .dataframe tbody tr th:only-of-type {\n",
       "        vertical-align: middle;\n",
       "    }\n",
       "\n",
       "    .dataframe tbody tr th {\n",
       "        vertical-align: top;\n",
       "    }\n",
       "\n",
       "    .dataframe thead th {\n",
       "        text-align: right;\n",
       "    }\n",
       "</style>\n",
       "<table border=\"1\" class=\"dataframe\">\n",
       "  <thead>\n",
       "    <tr style=\"text-align: right;\">\n",
       "      <th></th>\n",
       "      <th>Ra</th>\n",
       "      <th>Rq</th>\n",
       "      <th>Rt</th>\n",
       "      <th>Rz</th>\n",
       "      <th>Rmax</th>\n",
       "      <th>Rp</th>\n",
       "      <th>Rv</th>\n",
       "      <th>Rc</th>\n",
       "      <th>Rsm</th>\n",
       "      <th>Rsk</th>\n",
       "      <th>...</th>\n",
       "      <th>sigma Rc</th>\n",
       "      <th>sigma Rsm</th>\n",
       "      <th>sigma Rsk</th>\n",
       "      <th>sigma Rku</th>\n",
       "      <th>sigma Rdq</th>\n",
       "      <th>Rk</th>\n",
       "      <th>Rpk</th>\n",
       "      <th>Rvk</th>\n",
       "      <th>Rmr1</th>\n",
       "      <th>Rmr2</th>\n",
       "    </tr>\n",
       "  </thead>\n",
       "  <tbody>\n",
       "    <tr>\n",
       "      <th>0</th>\n",
       "      <td>169 nm</td>\n",
       "      <td>220 nm</td>\n",
       "      <td>1.24 µm</td>\n",
       "      <td>861 nm</td>\n",
       "      <td>1.12 µm</td>\n",
       "      <td>532 nm</td>\n",
       "      <td>706 nm</td>\n",
       "      <td>705 nm</td>\n",
       "      <td>15.1 µm</td>\n",
       "      <td>-0.355</td>\n",
       "      <td>...</td>\n",
       "      <td>47 nm</td>\n",
       "      <td>566 nm</td>\n",
       "      <td>0.147</td>\n",
       "      <td>0.189</td>\n",
       "      <td>0.00788</td>\n",
       "      <td>453 nm</td>\n",
       "      <td>162 nm</td>\n",
       "      <td>314 nm</td>\n",
       "      <td>15 %</td>\n",
       "      <td>84.5 %</td>\n",
       "    </tr>\n",
       "    <tr>\n",
       "      <th>1</th>\n",
       "      <td>208 nm</td>\n",
       "      <td>273 nm</td>\n",
       "      <td>1.62 µm</td>\n",
       "      <td>1.15 µm</td>\n",
       "      <td>1.62 µm</td>\n",
       "      <td>741 nm</td>\n",
       "      <td>883 nm</td>\n",
       "      <td>882 nm</td>\n",
       "      <td>16.5 µm</td>\n",
       "      <td>-0.243</td>\n",
       "      <td>...</td>\n",
       "      <td>50.1 nm</td>\n",
       "      <td>1.66 µm</td>\n",
       "      <td>0.0397</td>\n",
       "      <td>0.0497</td>\n",
       "      <td>0.0055</td>\n",
       "      <td>586 nm</td>\n",
       "      <td>265 nm</td>\n",
       "      <td>423 nm</td>\n",
       "      <td>9.39 %</td>\n",
       "      <td>86.2 %</td>\n",
       "    </tr>\n",
       "    <tr>\n",
       "      <th>2</th>\n",
       "      <td>185 nm</td>\n",
       "      <td>243 nm</td>\n",
       "      <td>1.27 µm</td>\n",
       "      <td>928 nm</td>\n",
       "      <td>1.26 µm</td>\n",
       "      <td>623 nm</td>\n",
       "      <td>652 nm</td>\n",
       "      <td>671 nm</td>\n",
       "      <td>12.3 µm</td>\n",
       "      <td>-0.0534</td>\n",
       "      <td>...</td>\n",
       "      <td>18 nm</td>\n",
       "      <td>479 nm</td>\n",
       "      <td>0.0254</td>\n",
       "      <td>0.0734</td>\n",
       "      <td>0.00168</td>\n",
       "      <td>495 nm</td>\n",
       "      <td>367 nm</td>\n",
       "      <td>335 nm</td>\n",
       "      <td>10.1 %</td>\n",
       "      <td>85 %</td>\n",
       "    </tr>\n",
       "    <tr>\n",
       "      <th>3</th>\n",
       "      <td>252 nm</td>\n",
       "      <td>319 nm</td>\n",
       "      <td>1.63 µm</td>\n",
       "      <td>1.26 µm</td>\n",
       "      <td>1.63 µm</td>\n",
       "      <td>844 nm</td>\n",
       "      <td>791 nm</td>\n",
       "      <td>935 nm</td>\n",
       "      <td>13.1 µm</td>\n",
       "      <td>0.133</td>\n",
       "      <td>...</td>\n",
       "      <td>38.3 nm</td>\n",
       "      <td>404 nm</td>\n",
       "      <td>0.0232</td>\n",
       "      <td>0.219</td>\n",
       "      <td>0.00386</td>\n",
       "      <td>773 nm</td>\n",
       "      <td>324 nm</td>\n",
       "      <td>294 nm</td>\n",
       "      <td>13.4 %</td>\n",
       "      <td>90.1 %</td>\n",
       "    </tr>\n",
       "    <tr>\n",
       "      <th>4</th>\n",
       "      <td>176 nm</td>\n",
       "      <td>237 nm</td>\n",
       "      <td>1.56 µm</td>\n",
       "      <td>973 nm</td>\n",
       "      <td>1.53 µm</td>\n",
       "      <td>591 nm</td>\n",
       "      <td>965 nm</td>\n",
       "      <td>736 nm</td>\n",
       "      <td>12.9 µm</td>\n",
       "      <td>-0.216</td>\n",
       "      <td>...</td>\n",
       "      <td>22.4 nm</td>\n",
       "      <td>799 nm</td>\n",
       "      <td>0.0871</td>\n",
       "      <td>0.205</td>\n",
       "      <td>0.00317</td>\n",
       "      <td>473 nm</td>\n",
       "      <td>311 nm</td>\n",
       "      <td>279 nm</td>\n",
       "      <td>13.9 %</td>\n",
       "      <td>86.1 %</td>\n",
       "    </tr>\n",
       "  </tbody>\n",
       "</table>\n",
       "<p>5 rows × 44 columns</p>\n",
       "</div>"
      ],
      "text/plain": [
       "       Ra      Rq       Rt       Rz     Rmax      Rp      Rv      Rc      Rsm  \\\n",
       "0  169 nm  220 nm  1.24 µm   861 nm  1.12 µm  532 nm  706 nm  705 nm  15.1 µm   \n",
       "1  208 nm  273 nm  1.62 µm  1.15 µm  1.62 µm  741 nm  883 nm  882 nm  16.5 µm   \n",
       "2  185 nm  243 nm  1.27 µm   928 nm  1.26 µm  623 nm  652 nm  671 nm  12.3 µm   \n",
       "3  252 nm  319 nm  1.63 µm  1.26 µm  1.63 µm  844 nm  791 nm  935 nm  13.1 µm   \n",
       "4  176 nm  237 nm  1.56 µm   973 nm  1.53 µm  591 nm  965 nm  736 nm  12.9 µm   \n",
       "\n",
       "       Rsk  ... sigma Rc sigma Rsm sigma Rsk sigma Rku sigma Rdq      Rk  \\\n",
       "0   -0.355  ...    47 nm    566 nm     0.147     0.189   0.00788  453 nm   \n",
       "1   -0.243  ...  50.1 nm   1.66 µm    0.0397    0.0497    0.0055  586 nm   \n",
       "2  -0.0534  ...    18 nm    479 nm    0.0254    0.0734   0.00168  495 nm   \n",
       "3    0.133  ...  38.3 nm    404 nm    0.0232     0.219   0.00386  773 nm   \n",
       "4   -0.216  ...  22.4 nm    799 nm    0.0871     0.205   0.00317  473 nm   \n",
       "\n",
       "      Rpk     Rvk    Rmr1    Rmr2  \n",
       "0  162 nm  314 nm    15 %  84.5 %  \n",
       "1  265 nm  423 nm  9.39 %  86.2 %  \n",
       "2  367 nm  335 nm  10.1 %    85 %  \n",
       "3  324 nm  294 nm  13.4 %  90.1 %  \n",
       "4  311 nm  279 nm  13.9 %  86.1 %  \n",
       "\n",
       "[5 rows x 44 columns]"
      ]
     },
     "execution_count": 6,
     "metadata": {},
     "output_type": "execute_result"
    }
   ],
   "source": [
    "# Ekstrakcja danych z przykładowego pliku\n",
    "df = extract_data_from_pdf(file_path)\n",
    "df.head()"
   ]
  },
  {
   "cell_type": "code",
   "execution_count": 7,
   "metadata": {},
   "outputs": [],
   "source": [
    "# Funkcja pobierania danych z wszystkich plików we wskazanych lokalizacjach\n",
    "def extract_all_data_from_directories(directories):\n",
    "    all_data = []\n",
    "\n",
    "    # Przejście przez każdy katalog w liście\n",
    "    for directory_path in directories:\n",
    "        for file in os.listdir(directory_path):\n",
    "            if file.endswith(\".pdf\"):\n",
    "                file_path = os.path.join(directory_path, file)\n",
    "                data_from_file = extract_data_from_pdf(file_path)\n",
    "\n",
    "                # Sprawdzenie, czy DataFrame nie jest pusty\n",
    "                if not data_from_file.empty:\n",
    "                    # Dodanie indeksu do danych z każdego pliku\n",
    "                    data_from_file['File_Index'] = [f'{file}_{i+1}' for i in range(len(data_from_file))]\n",
    "                    all_data.append(data_from_file)\n",
    "\n",
    "    # Połączenie wszystkich danych w jeden DataFrame\n",
    "    combined_data = pd.concat(all_data, ignore_index=True) if all_data else pd.DataFrame()\n",
    "    \n",
    "    return combined_data"
   ]
  },
  {
   "cell_type": "code",
   "execution_count": 8,
   "metadata": {},
   "outputs": [
    {
     "data": {
      "text/html": [
       "<div>\n",
       "<style scoped>\n",
       "    .dataframe tbody tr th:only-of-type {\n",
       "        vertical-align: middle;\n",
       "    }\n",
       "\n",
       "    .dataframe tbody tr th {\n",
       "        vertical-align: top;\n",
       "    }\n",
       "\n",
       "    .dataframe thead th {\n",
       "        text-align: right;\n",
       "    }\n",
       "</style>\n",
       "<table border=\"1\" class=\"dataframe\">\n",
       "  <thead>\n",
       "    <tr style=\"text-align: right;\">\n",
       "      <th></th>\n",
       "      <th>Ra</th>\n",
       "      <th>Rq</th>\n",
       "      <th>Rt</th>\n",
       "      <th>Rz</th>\n",
       "      <th>Rmax</th>\n",
       "      <th>Rp</th>\n",
       "      <th>Rv</th>\n",
       "      <th>Rc</th>\n",
       "      <th>Rsm</th>\n",
       "      <th>Rsk</th>\n",
       "      <th>...</th>\n",
       "      <th>sigma Rsm</th>\n",
       "      <th>sigma Rsk</th>\n",
       "      <th>sigma Rku</th>\n",
       "      <th>sigma Rdq</th>\n",
       "      <th>Rk</th>\n",
       "      <th>Rpk</th>\n",
       "      <th>Rvk</th>\n",
       "      <th>Rmr1</th>\n",
       "      <th>Rmr2</th>\n",
       "      <th>File_Index</th>\n",
       "    </tr>\n",
       "  </thead>\n",
       "  <tbody>\n",
       "    <tr>\n",
       "      <th>0</th>\n",
       "      <td>169 nm</td>\n",
       "      <td>220 nm</td>\n",
       "      <td>1.24 µm</td>\n",
       "      <td>861 nm</td>\n",
       "      <td>1.12 µm</td>\n",
       "      <td>532 nm</td>\n",
       "      <td>706 nm</td>\n",
       "      <td>705 nm</td>\n",
       "      <td>15.1 µm</td>\n",
       "      <td>-0.355</td>\n",
       "      <td>...</td>\n",
       "      <td>566 nm</td>\n",
       "      <td>0.147</td>\n",
       "      <td>0.189</td>\n",
       "      <td>0.00788</td>\n",
       "      <td>453 nm</td>\n",
       "      <td>162 nm</td>\n",
       "      <td>314 nm</td>\n",
       "      <td>15 %</td>\n",
       "      <td>84.5 %</td>\n",
       "      <td>51824_1_1.pdf_1</td>\n",
       "    </tr>\n",
       "    <tr>\n",
       "      <th>1</th>\n",
       "      <td>208 nm</td>\n",
       "      <td>273 nm</td>\n",
       "      <td>1.62 µm</td>\n",
       "      <td>1.15 µm</td>\n",
       "      <td>1.62 µm</td>\n",
       "      <td>741 nm</td>\n",
       "      <td>883 nm</td>\n",
       "      <td>882 nm</td>\n",
       "      <td>16.5 µm</td>\n",
       "      <td>-0.243</td>\n",
       "      <td>...</td>\n",
       "      <td>1.66 µm</td>\n",
       "      <td>0.0397</td>\n",
       "      <td>0.0497</td>\n",
       "      <td>0.0055</td>\n",
       "      <td>586 nm</td>\n",
       "      <td>265 nm</td>\n",
       "      <td>423 nm</td>\n",
       "      <td>9.39 %</td>\n",
       "      <td>86.2 %</td>\n",
       "      <td>51824_1_1.pdf_2</td>\n",
       "    </tr>\n",
       "    <tr>\n",
       "      <th>2</th>\n",
       "      <td>185 nm</td>\n",
       "      <td>243 nm</td>\n",
       "      <td>1.27 µm</td>\n",
       "      <td>928 nm</td>\n",
       "      <td>1.26 µm</td>\n",
       "      <td>623 nm</td>\n",
       "      <td>652 nm</td>\n",
       "      <td>671 nm</td>\n",
       "      <td>12.3 µm</td>\n",
       "      <td>-0.0534</td>\n",
       "      <td>...</td>\n",
       "      <td>479 nm</td>\n",
       "      <td>0.0254</td>\n",
       "      <td>0.0734</td>\n",
       "      <td>0.00168</td>\n",
       "      <td>495 nm</td>\n",
       "      <td>367 nm</td>\n",
       "      <td>335 nm</td>\n",
       "      <td>10.1 %</td>\n",
       "      <td>85 %</td>\n",
       "      <td>51824_1_1.pdf_3</td>\n",
       "    </tr>\n",
       "    <tr>\n",
       "      <th>3</th>\n",
       "      <td>252 nm</td>\n",
       "      <td>319 nm</td>\n",
       "      <td>1.63 µm</td>\n",
       "      <td>1.26 µm</td>\n",
       "      <td>1.63 µm</td>\n",
       "      <td>844 nm</td>\n",
       "      <td>791 nm</td>\n",
       "      <td>935 nm</td>\n",
       "      <td>13.1 µm</td>\n",
       "      <td>0.133</td>\n",
       "      <td>...</td>\n",
       "      <td>404 nm</td>\n",
       "      <td>0.0232</td>\n",
       "      <td>0.219</td>\n",
       "      <td>0.00386</td>\n",
       "      <td>773 nm</td>\n",
       "      <td>324 nm</td>\n",
       "      <td>294 nm</td>\n",
       "      <td>13.4 %</td>\n",
       "      <td>90.1 %</td>\n",
       "      <td>51824_1_1.pdf_4</td>\n",
       "    </tr>\n",
       "    <tr>\n",
       "      <th>4</th>\n",
       "      <td>176 nm</td>\n",
       "      <td>237 nm</td>\n",
       "      <td>1.56 µm</td>\n",
       "      <td>973 nm</td>\n",
       "      <td>1.53 µm</td>\n",
       "      <td>591 nm</td>\n",
       "      <td>965 nm</td>\n",
       "      <td>736 nm</td>\n",
       "      <td>12.9 µm</td>\n",
       "      <td>-0.216</td>\n",
       "      <td>...</td>\n",
       "      <td>799 nm</td>\n",
       "      <td>0.0871</td>\n",
       "      <td>0.205</td>\n",
       "      <td>0.00317</td>\n",
       "      <td>473 nm</td>\n",
       "      <td>311 nm</td>\n",
       "      <td>279 nm</td>\n",
       "      <td>13.9 %</td>\n",
       "      <td>86.1 %</td>\n",
       "      <td>51824_1_1.pdf_5</td>\n",
       "    </tr>\n",
       "    <tr>\n",
       "      <th>...</th>\n",
       "      <td>...</td>\n",
       "      <td>...</td>\n",
       "      <td>...</td>\n",
       "      <td>...</td>\n",
       "      <td>...</td>\n",
       "      <td>...</td>\n",
       "      <td>...</td>\n",
       "      <td>...</td>\n",
       "      <td>...</td>\n",
       "      <td>...</td>\n",
       "      <td>...</td>\n",
       "      <td>...</td>\n",
       "      <td>...</td>\n",
       "      <td>...</td>\n",
       "      <td>...</td>\n",
       "      <td>...</td>\n",
       "      <td>...</td>\n",
       "      <td>...</td>\n",
       "      <td>...</td>\n",
       "      <td>...</td>\n",
       "      <td>...</td>\n",
       "    </tr>\n",
       "    <tr>\n",
       "      <th>175</th>\n",
       "      <td>237 nm</td>\n",
       "      <td>304 nm</td>\n",
       "      <td>1.74 µm</td>\n",
       "      <td>1.3 µm</td>\n",
       "      <td>1.55 µm</td>\n",
       "      <td>807 nm</td>\n",
       "      <td>933 nm</td>\n",
       "      <td>971 nm</td>\n",
       "      <td>14.1 µm</td>\n",
       "      <td>-0.331</td>\n",
       "      <td>...</td>\n",
       "      <td>592 nm</td>\n",
       "      <td>0.0973</td>\n",
       "      <td>0.0851</td>\n",
       "      <td>0.00507</td>\n",
       "      <td>644 nm</td>\n",
       "      <td>297 nm</td>\n",
       "      <td>372 nm</td>\n",
       "      <td>10.8 %</td>\n",
       "      <td>82.8 %</td>\n",
       "      <td>208250_3_3.pdf_1</td>\n",
       "    </tr>\n",
       "    <tr>\n",
       "      <th>176</th>\n",
       "      <td>214 nm</td>\n",
       "      <td>270 nm</td>\n",
       "      <td>1.68 µm</td>\n",
       "      <td>1.09 µm</td>\n",
       "      <td>1.37 µm</td>\n",
       "      <td>963 nm</td>\n",
       "      <td>717 nm</td>\n",
       "      <td>871 nm</td>\n",
       "      <td>13.8 µm</td>\n",
       "      <td>0.462</td>\n",
       "      <td>...</td>\n",
       "      <td>260 nm</td>\n",
       "      <td>0.0151</td>\n",
       "      <td>0.0168</td>\n",
       "      <td>0.00281</td>\n",
       "      <td>626 nm</td>\n",
       "      <td>341 nm</td>\n",
       "      <td>155 nm</td>\n",
       "      <td>14.6 %</td>\n",
       "      <td>90 %</td>\n",
       "      <td>208250_3_3.pdf_2</td>\n",
       "    </tr>\n",
       "    <tr>\n",
       "      <th>177</th>\n",
       "      <td>161 nm</td>\n",
       "      <td>216 nm</td>\n",
       "      <td>1.32 µm</td>\n",
       "      <td>944 nm</td>\n",
       "      <td>1.32 µm</td>\n",
       "      <td>485 nm</td>\n",
       "      <td>837 nm</td>\n",
       "      <td>750 nm</td>\n",
       "      <td>17.5 µm</td>\n",
       "      <td>-0.927</td>\n",
       "      <td>...</td>\n",
       "      <td>969 nm</td>\n",
       "      <td>0.055</td>\n",
       "      <td>0.24</td>\n",
       "      <td>0.00233</td>\n",
       "      <td>444 nm</td>\n",
       "      <td>184 nm</td>\n",
       "      <td>393 nm</td>\n",
       "      <td>7.99 %</td>\n",
       "      <td>86.1 %</td>\n",
       "      <td>208250_3_3.pdf_3</td>\n",
       "    </tr>\n",
       "    <tr>\n",
       "      <th>178</th>\n",
       "      <td>169 nm</td>\n",
       "      <td>218 nm</td>\n",
       "      <td>1.37 µm</td>\n",
       "      <td>869 nm</td>\n",
       "      <td>1.17 µm</td>\n",
       "      <td>762 nm</td>\n",
       "      <td>604 nm</td>\n",
       "      <td>659 nm</td>\n",
       "      <td>17.2 µm</td>\n",
       "      <td>0.328</td>\n",
       "      <td>...</td>\n",
       "      <td>1.89 µm</td>\n",
       "      <td>0.171</td>\n",
       "      <td>0.5</td>\n",
       "      <td>0.00993</td>\n",
       "      <td>515 nm</td>\n",
       "      <td>347 nm</td>\n",
       "      <td>174 nm</td>\n",
       "      <td>10.4 %</td>\n",
       "      <td>89.8 %</td>\n",
       "      <td>208250_3_3.pdf_4</td>\n",
       "    </tr>\n",
       "    <tr>\n",
       "      <th>179</th>\n",
       "      <td>149 nm</td>\n",
       "      <td>205 nm</td>\n",
       "      <td>2.12 µm</td>\n",
       "      <td>937 nm</td>\n",
       "      <td>1.45 µm</td>\n",
       "      <td>1 µm</td>\n",
       "      <td>1.11 µm</td>\n",
       "      <td>810 nm</td>\n",
       "      <td>21.9 µm</td>\n",
       "      <td>-0.517</td>\n",
       "      <td>...</td>\n",
       "      <td>4.23 µm</td>\n",
       "      <td>1</td>\n",
       "      <td>4.09</td>\n",
       "      <td>0.0322</td>\n",
       "      <td>430 nm</td>\n",
       "      <td>236 nm</td>\n",
       "      <td>273 nm</td>\n",
       "      <td>12.7 %</td>\n",
       "      <td>89.5 %</td>\n",
       "      <td>208250_3_3.pdf_5</td>\n",
       "    </tr>\n",
       "  </tbody>\n",
       "</table>\n",
       "<p>180 rows × 45 columns</p>\n",
       "</div>"
      ],
      "text/plain": [
       "         Ra      Rq       Rt       Rz     Rmax      Rp       Rv      Rc  \\\n",
       "0    169 nm  220 nm  1.24 µm   861 nm  1.12 µm  532 nm   706 nm  705 nm   \n",
       "1    208 nm  273 nm  1.62 µm  1.15 µm  1.62 µm  741 nm   883 nm  882 nm   \n",
       "2    185 nm  243 nm  1.27 µm   928 nm  1.26 µm  623 nm   652 nm  671 nm   \n",
       "3    252 nm  319 nm  1.63 µm  1.26 µm  1.63 µm  844 nm   791 nm  935 nm   \n",
       "4    176 nm  237 nm  1.56 µm   973 nm  1.53 µm  591 nm   965 nm  736 nm   \n",
       "..      ...     ...      ...      ...      ...     ...      ...     ...   \n",
       "175  237 nm  304 nm  1.74 µm   1.3 µm  1.55 µm  807 nm   933 nm  971 nm   \n",
       "176  214 nm  270 nm  1.68 µm  1.09 µm  1.37 µm  963 nm   717 nm  871 nm   \n",
       "177  161 nm  216 nm  1.32 µm   944 nm  1.32 µm  485 nm   837 nm  750 nm   \n",
       "178  169 nm  218 nm  1.37 µm   869 nm  1.17 µm  762 nm   604 nm  659 nm   \n",
       "179  149 nm  205 nm  2.12 µm   937 nm  1.45 µm    1 µm  1.11 µm  810 nm   \n",
       "\n",
       "         Rsm      Rsk  ... sigma Rsm sigma Rsk sigma Rku sigma Rdq      Rk  \\\n",
       "0    15.1 µm   -0.355  ...    566 nm     0.147     0.189   0.00788  453 nm   \n",
       "1    16.5 µm   -0.243  ...   1.66 µm    0.0397    0.0497    0.0055  586 nm   \n",
       "2    12.3 µm  -0.0534  ...    479 nm    0.0254    0.0734   0.00168  495 nm   \n",
       "3    13.1 µm    0.133  ...    404 nm    0.0232     0.219   0.00386  773 nm   \n",
       "4    12.9 µm   -0.216  ...    799 nm    0.0871     0.205   0.00317  473 nm   \n",
       "..       ...      ...  ...       ...       ...       ...       ...     ...   \n",
       "175  14.1 µm   -0.331  ...    592 nm    0.0973    0.0851   0.00507  644 nm   \n",
       "176  13.8 µm    0.462  ...    260 nm    0.0151    0.0168   0.00281  626 nm   \n",
       "177  17.5 µm   -0.927  ...    969 nm     0.055      0.24   0.00233  444 nm   \n",
       "178  17.2 µm    0.328  ...   1.89 µm     0.171       0.5   0.00993  515 nm   \n",
       "179  21.9 µm   -0.517  ...   4.23 µm         1      4.09    0.0322  430 nm   \n",
       "\n",
       "        Rpk     Rvk    Rmr1    Rmr2        File_Index  \n",
       "0    162 nm  314 nm    15 %  84.5 %   51824_1_1.pdf_1  \n",
       "1    265 nm  423 nm  9.39 %  86.2 %   51824_1_1.pdf_2  \n",
       "2    367 nm  335 nm  10.1 %    85 %   51824_1_1.pdf_3  \n",
       "3    324 nm  294 nm  13.4 %  90.1 %   51824_1_1.pdf_4  \n",
       "4    311 nm  279 nm  13.9 %  86.1 %   51824_1_1.pdf_5  \n",
       "..      ...     ...     ...     ...               ...  \n",
       "175  297 nm  372 nm  10.8 %  82.8 %  208250_3_3.pdf_1  \n",
       "176  341 nm  155 nm  14.6 %    90 %  208250_3_3.pdf_2  \n",
       "177  184 nm  393 nm  7.99 %  86.1 %  208250_3_3.pdf_3  \n",
       "178  347 nm  174 nm  10.4 %  89.8 %  208250_3_3.pdf_4  \n",
       "179  236 nm  273 nm  12.7 %  89.5 %  208250_3_3.pdf_5  \n",
       "\n",
       "[180 rows x 45 columns]"
      ]
     },
     "execution_count": 8,
     "metadata": {},
     "output_type": "execute_result"
    }
   ],
   "source": [
    "# Funkcja do pobierania ścieżek dostępu z pliku zewnętrznego\n",
    "def read_directory_paths(file_path):\n",
    "    with open(file_path, \"r\") as f:\n",
    "        directories = [line.strip() for line in f]\n",
    "    return directories\n",
    "\n",
    "paths_file = \"paths.txt\"\n",
    "\n",
    "# Wczytanie ścieżek dostępu do plików zewnętrznych\n",
    "directories = read_directory_paths(paths_file)\n",
    "\n",
    "# Wywołanie funkcji i wyświetlenie wyników\n",
    "combined_df = extract_all_data_from_directories(directories)\n",
    "combined_df"
   ]
  },
  {
   "cell_type": "markdown",
   "metadata": {},
   "source": [
    "## 2. Oczyszczanie i przygotowanie danych"
   ]
  },
  {
   "cell_type": "markdown",
   "metadata": {},
   "source": [
    "### 2.1 Ujednolicenie jednostek i usunięcie opisu jednostki z komórek z danymi"
   ]
  },
  {
   "cell_type": "code",
   "execution_count": 9,
   "metadata": {},
   "outputs": [],
   "source": [
    "all_data = combined_df.copy()"
   ]
  },
  {
   "cell_type": "code",
   "execution_count": 10,
   "metadata": {},
   "outputs": [],
   "source": [
    "# Funkcja do ujednolicenia jednostek\n",
    "def convert_to_number(cell):\n",
    "    if isinstance(cell, str):\n",
    "        try:\n",
    "            # Sprawdzanie i konwersja jednostek\n",
    "            if 'nm' in cell:\n",
    "                return float(cell.replace('nm', '')) / 1000\n",
    "            elif 'µm' in cell:\n",
    "                return float(cell.replace('µm', ''))\n",
    "            elif '%' in cell:\n",
    "                return float(cell.replace('%', ''))\n",
    "            else:\n",
    "                return float(cell)  # Próba bezpośredniej konwersji\n",
    "        except ValueError:\n",
    "            return cell  # Zwracanie oryginalnej wartości, jeśli konwersja nie jest możliwa\n",
    "    return cell"
   ]
  },
  {
   "cell_type": "code",
   "execution_count": 11,
   "metadata": {},
   "outputs": [
    {
     "data": {
      "text/plain": [
       "Index(['Ra', 'Rq', 'Rt', 'Rz', 'Rmax', 'Rp', 'Rv', 'Rc', 'Rsm', 'Rsk', 'Rku',\n",
       "       'Rdq', 'Rt/Rz', 'l', 'Lc', 'mean Ra', 'mean Rq', 'mean Rt', 'mean Rz',\n",
       "       'mean Rmax', 'mean Rp', 'mean Rv', 'mean Rc', 'mean Rsm', 'mean Rsk',\n",
       "       'mean Rku', 'mean Rdq', 'sigma Ra', 'sigma Rq', 'sigma Rt', 'sigma Rz',\n",
       "       'sigma Rmax', 'sigma Rp', 'sigma Rv', 'sigma Rc', 'sigma Rsm',\n",
       "       'sigma Rsk', 'sigma Rku', 'sigma Rdq', 'Rk', 'Rpk', 'Rvk', 'Rmr1',\n",
       "       'Rmr2', 'File_Index'],\n",
       "      dtype='object')"
      ]
     },
     "execution_count": 11,
     "metadata": {},
     "output_type": "execute_result"
    }
   ],
   "source": [
    "all_data.columns"
   ]
  },
  {
   "cell_type": "code",
   "execution_count": 12,
   "metadata": {},
   "outputs": [
    {
     "data": {
      "text/html": [
       "<div>\n",
       "<style scoped>\n",
       "    .dataframe tbody tr th:only-of-type {\n",
       "        vertical-align: middle;\n",
       "    }\n",
       "\n",
       "    .dataframe tbody tr th {\n",
       "        vertical-align: top;\n",
       "    }\n",
       "\n",
       "    .dataframe thead th {\n",
       "        text-align: right;\n",
       "    }\n",
       "</style>\n",
       "<table border=\"1\" class=\"dataframe\">\n",
       "  <thead>\n",
       "    <tr style=\"text-align: right;\">\n",
       "      <th></th>\n",
       "      <th>Ra</th>\n",
       "      <th>Rq</th>\n",
       "      <th>Rt</th>\n",
       "      <th>Rz</th>\n",
       "      <th>Rmax</th>\n",
       "      <th>Rp</th>\n",
       "      <th>Rv</th>\n",
       "      <th>Rc</th>\n",
       "      <th>Rsm</th>\n",
       "      <th>Rsk</th>\n",
       "      <th>...</th>\n",
       "      <th>sigma Rsm</th>\n",
       "      <th>sigma Rsk</th>\n",
       "      <th>sigma Rku</th>\n",
       "      <th>sigma Rdq</th>\n",
       "      <th>Rk</th>\n",
       "      <th>Rpk</th>\n",
       "      <th>Rvk</th>\n",
       "      <th>Rmr1</th>\n",
       "      <th>Rmr2</th>\n",
       "      <th>File_Index</th>\n",
       "    </tr>\n",
       "  </thead>\n",
       "  <tbody>\n",
       "    <tr>\n",
       "      <th>0</th>\n",
       "      <td>0.169</td>\n",
       "      <td>0.220</td>\n",
       "      <td>1.24</td>\n",
       "      <td>0.861</td>\n",
       "      <td>1.12</td>\n",
       "      <td>0.532</td>\n",
       "      <td>0.706</td>\n",
       "      <td>0.705</td>\n",
       "      <td>15.1</td>\n",
       "      <td>-0.3550</td>\n",
       "      <td>...</td>\n",
       "      <td>0.566</td>\n",
       "      <td>0.1470</td>\n",
       "      <td>0.1890</td>\n",
       "      <td>0.00788</td>\n",
       "      <td>0.453</td>\n",
       "      <td>0.162</td>\n",
       "      <td>0.314</td>\n",
       "      <td>15.00</td>\n",
       "      <td>84.5</td>\n",
       "      <td>51824_1_1.pdf_1</td>\n",
       "    </tr>\n",
       "    <tr>\n",
       "      <th>1</th>\n",
       "      <td>0.208</td>\n",
       "      <td>0.273</td>\n",
       "      <td>1.62</td>\n",
       "      <td>1.150</td>\n",
       "      <td>1.62</td>\n",
       "      <td>0.741</td>\n",
       "      <td>0.883</td>\n",
       "      <td>0.882</td>\n",
       "      <td>16.5</td>\n",
       "      <td>-0.2430</td>\n",
       "      <td>...</td>\n",
       "      <td>1.660</td>\n",
       "      <td>0.0397</td>\n",
       "      <td>0.0497</td>\n",
       "      <td>0.00550</td>\n",
       "      <td>0.586</td>\n",
       "      <td>0.265</td>\n",
       "      <td>0.423</td>\n",
       "      <td>9.39</td>\n",
       "      <td>86.2</td>\n",
       "      <td>51824_1_1.pdf_2</td>\n",
       "    </tr>\n",
       "    <tr>\n",
       "      <th>2</th>\n",
       "      <td>0.185</td>\n",
       "      <td>0.243</td>\n",
       "      <td>1.27</td>\n",
       "      <td>0.928</td>\n",
       "      <td>1.26</td>\n",
       "      <td>0.623</td>\n",
       "      <td>0.652</td>\n",
       "      <td>0.671</td>\n",
       "      <td>12.3</td>\n",
       "      <td>-0.0534</td>\n",
       "      <td>...</td>\n",
       "      <td>0.479</td>\n",
       "      <td>0.0254</td>\n",
       "      <td>0.0734</td>\n",
       "      <td>0.00168</td>\n",
       "      <td>0.495</td>\n",
       "      <td>0.367</td>\n",
       "      <td>0.335</td>\n",
       "      <td>10.10</td>\n",
       "      <td>85.0</td>\n",
       "      <td>51824_1_1.pdf_3</td>\n",
       "    </tr>\n",
       "    <tr>\n",
       "      <th>3</th>\n",
       "      <td>0.252</td>\n",
       "      <td>0.319</td>\n",
       "      <td>1.63</td>\n",
       "      <td>1.260</td>\n",
       "      <td>1.63</td>\n",
       "      <td>0.844</td>\n",
       "      <td>0.791</td>\n",
       "      <td>0.935</td>\n",
       "      <td>13.1</td>\n",
       "      <td>0.1330</td>\n",
       "      <td>...</td>\n",
       "      <td>0.404</td>\n",
       "      <td>0.0232</td>\n",
       "      <td>0.2190</td>\n",
       "      <td>0.00386</td>\n",
       "      <td>0.773</td>\n",
       "      <td>0.324</td>\n",
       "      <td>0.294</td>\n",
       "      <td>13.40</td>\n",
       "      <td>90.1</td>\n",
       "      <td>51824_1_1.pdf_4</td>\n",
       "    </tr>\n",
       "    <tr>\n",
       "      <th>4</th>\n",
       "      <td>0.176</td>\n",
       "      <td>0.237</td>\n",
       "      <td>1.56</td>\n",
       "      <td>0.973</td>\n",
       "      <td>1.53</td>\n",
       "      <td>0.591</td>\n",
       "      <td>0.965</td>\n",
       "      <td>0.736</td>\n",
       "      <td>12.9</td>\n",
       "      <td>-0.2160</td>\n",
       "      <td>...</td>\n",
       "      <td>0.799</td>\n",
       "      <td>0.0871</td>\n",
       "      <td>0.2050</td>\n",
       "      <td>0.00317</td>\n",
       "      <td>0.473</td>\n",
       "      <td>0.311</td>\n",
       "      <td>0.279</td>\n",
       "      <td>13.90</td>\n",
       "      <td>86.1</td>\n",
       "      <td>51824_1_1.pdf_5</td>\n",
       "    </tr>\n",
       "    <tr>\n",
       "      <th>...</th>\n",
       "      <td>...</td>\n",
       "      <td>...</td>\n",
       "      <td>...</td>\n",
       "      <td>...</td>\n",
       "      <td>...</td>\n",
       "      <td>...</td>\n",
       "      <td>...</td>\n",
       "      <td>...</td>\n",
       "      <td>...</td>\n",
       "      <td>...</td>\n",
       "      <td>...</td>\n",
       "      <td>...</td>\n",
       "      <td>...</td>\n",
       "      <td>...</td>\n",
       "      <td>...</td>\n",
       "      <td>...</td>\n",
       "      <td>...</td>\n",
       "      <td>...</td>\n",
       "      <td>...</td>\n",
       "      <td>...</td>\n",
       "      <td>...</td>\n",
       "    </tr>\n",
       "    <tr>\n",
       "      <th>175</th>\n",
       "      <td>0.237</td>\n",
       "      <td>0.304</td>\n",
       "      <td>1.74</td>\n",
       "      <td>1.300</td>\n",
       "      <td>1.55</td>\n",
       "      <td>0.807</td>\n",
       "      <td>0.933</td>\n",
       "      <td>0.971</td>\n",
       "      <td>14.1</td>\n",
       "      <td>-0.3310</td>\n",
       "      <td>...</td>\n",
       "      <td>0.592</td>\n",
       "      <td>0.0973</td>\n",
       "      <td>0.0851</td>\n",
       "      <td>0.00507</td>\n",
       "      <td>0.644</td>\n",
       "      <td>0.297</td>\n",
       "      <td>0.372</td>\n",
       "      <td>10.80</td>\n",
       "      <td>82.8</td>\n",
       "      <td>208250_3_3.pdf_1</td>\n",
       "    </tr>\n",
       "    <tr>\n",
       "      <th>176</th>\n",
       "      <td>0.214</td>\n",
       "      <td>0.270</td>\n",
       "      <td>1.68</td>\n",
       "      <td>1.090</td>\n",
       "      <td>1.37</td>\n",
       "      <td>0.963</td>\n",
       "      <td>0.717</td>\n",
       "      <td>0.871</td>\n",
       "      <td>13.8</td>\n",
       "      <td>0.4620</td>\n",
       "      <td>...</td>\n",
       "      <td>0.260</td>\n",
       "      <td>0.0151</td>\n",
       "      <td>0.0168</td>\n",
       "      <td>0.00281</td>\n",
       "      <td>0.626</td>\n",
       "      <td>0.341</td>\n",
       "      <td>0.155</td>\n",
       "      <td>14.60</td>\n",
       "      <td>90.0</td>\n",
       "      <td>208250_3_3.pdf_2</td>\n",
       "    </tr>\n",
       "    <tr>\n",
       "      <th>177</th>\n",
       "      <td>0.161</td>\n",
       "      <td>0.216</td>\n",
       "      <td>1.32</td>\n",
       "      <td>0.944</td>\n",
       "      <td>1.32</td>\n",
       "      <td>0.485</td>\n",
       "      <td>0.837</td>\n",
       "      <td>0.750</td>\n",
       "      <td>17.5</td>\n",
       "      <td>-0.9270</td>\n",
       "      <td>...</td>\n",
       "      <td>0.969</td>\n",
       "      <td>0.0550</td>\n",
       "      <td>0.2400</td>\n",
       "      <td>0.00233</td>\n",
       "      <td>0.444</td>\n",
       "      <td>0.184</td>\n",
       "      <td>0.393</td>\n",
       "      <td>7.99</td>\n",
       "      <td>86.1</td>\n",
       "      <td>208250_3_3.pdf_3</td>\n",
       "    </tr>\n",
       "    <tr>\n",
       "      <th>178</th>\n",
       "      <td>0.169</td>\n",
       "      <td>0.218</td>\n",
       "      <td>1.37</td>\n",
       "      <td>0.869</td>\n",
       "      <td>1.17</td>\n",
       "      <td>0.762</td>\n",
       "      <td>0.604</td>\n",
       "      <td>0.659</td>\n",
       "      <td>17.2</td>\n",
       "      <td>0.3280</td>\n",
       "      <td>...</td>\n",
       "      <td>1.890</td>\n",
       "      <td>0.1710</td>\n",
       "      <td>0.5000</td>\n",
       "      <td>0.00993</td>\n",
       "      <td>0.515</td>\n",
       "      <td>0.347</td>\n",
       "      <td>0.174</td>\n",
       "      <td>10.40</td>\n",
       "      <td>89.8</td>\n",
       "      <td>208250_3_3.pdf_4</td>\n",
       "    </tr>\n",
       "    <tr>\n",
       "      <th>179</th>\n",
       "      <td>0.149</td>\n",
       "      <td>0.205</td>\n",
       "      <td>2.12</td>\n",
       "      <td>0.937</td>\n",
       "      <td>1.45</td>\n",
       "      <td>1.000</td>\n",
       "      <td>1.110</td>\n",
       "      <td>0.810</td>\n",
       "      <td>21.9</td>\n",
       "      <td>-0.5170</td>\n",
       "      <td>...</td>\n",
       "      <td>4.230</td>\n",
       "      <td>1.0000</td>\n",
       "      <td>4.0900</td>\n",
       "      <td>0.03220</td>\n",
       "      <td>0.430</td>\n",
       "      <td>0.236</td>\n",
       "      <td>0.273</td>\n",
       "      <td>12.70</td>\n",
       "      <td>89.5</td>\n",
       "      <td>208250_3_3.pdf_5</td>\n",
       "    </tr>\n",
       "  </tbody>\n",
       "</table>\n",
       "<p>180 rows × 45 columns</p>\n",
       "</div>"
      ],
      "text/plain": [
       "        Ra     Rq    Rt     Rz  Rmax     Rp     Rv     Rc   Rsm     Rsk  ...  \\\n",
       "0    0.169  0.220  1.24  0.861  1.12  0.532  0.706  0.705  15.1 -0.3550  ...   \n",
       "1    0.208  0.273  1.62  1.150  1.62  0.741  0.883  0.882  16.5 -0.2430  ...   \n",
       "2    0.185  0.243  1.27  0.928  1.26  0.623  0.652  0.671  12.3 -0.0534  ...   \n",
       "3    0.252  0.319  1.63  1.260  1.63  0.844  0.791  0.935  13.1  0.1330  ...   \n",
       "4    0.176  0.237  1.56  0.973  1.53  0.591  0.965  0.736  12.9 -0.2160  ...   \n",
       "..     ...    ...   ...    ...   ...    ...    ...    ...   ...     ...  ...   \n",
       "175  0.237  0.304  1.74  1.300  1.55  0.807  0.933  0.971  14.1 -0.3310  ...   \n",
       "176  0.214  0.270  1.68  1.090  1.37  0.963  0.717  0.871  13.8  0.4620  ...   \n",
       "177  0.161  0.216  1.32  0.944  1.32  0.485  0.837  0.750  17.5 -0.9270  ...   \n",
       "178  0.169  0.218  1.37  0.869  1.17  0.762  0.604  0.659  17.2  0.3280  ...   \n",
       "179  0.149  0.205  2.12  0.937  1.45  1.000  1.110  0.810  21.9 -0.5170  ...   \n",
       "\n",
       "     sigma Rsm  sigma Rsk  sigma Rku  sigma Rdq     Rk    Rpk    Rvk   Rmr1  \\\n",
       "0        0.566     0.1470     0.1890    0.00788  0.453  0.162  0.314  15.00   \n",
       "1        1.660     0.0397     0.0497    0.00550  0.586  0.265  0.423   9.39   \n",
       "2        0.479     0.0254     0.0734    0.00168  0.495  0.367  0.335  10.10   \n",
       "3        0.404     0.0232     0.2190    0.00386  0.773  0.324  0.294  13.40   \n",
       "4        0.799     0.0871     0.2050    0.00317  0.473  0.311  0.279  13.90   \n",
       "..         ...        ...        ...        ...    ...    ...    ...    ...   \n",
       "175      0.592     0.0973     0.0851    0.00507  0.644  0.297  0.372  10.80   \n",
       "176      0.260     0.0151     0.0168    0.00281  0.626  0.341  0.155  14.60   \n",
       "177      0.969     0.0550     0.2400    0.00233  0.444  0.184  0.393   7.99   \n",
       "178      1.890     0.1710     0.5000    0.00993  0.515  0.347  0.174  10.40   \n",
       "179      4.230     1.0000     4.0900    0.03220  0.430  0.236  0.273  12.70   \n",
       "\n",
       "     Rmr2        File_Index  \n",
       "0    84.5   51824_1_1.pdf_1  \n",
       "1    86.2   51824_1_1.pdf_2  \n",
       "2    85.0   51824_1_1.pdf_3  \n",
       "3    90.1   51824_1_1.pdf_4  \n",
       "4    86.1   51824_1_1.pdf_5  \n",
       "..    ...               ...  \n",
       "175  82.8  208250_3_3.pdf_1  \n",
       "176  90.0  208250_3_3.pdf_2  \n",
       "177  86.1  208250_3_3.pdf_3  \n",
       "178  89.8  208250_3_3.pdf_4  \n",
       "179  89.5  208250_3_3.pdf_5  \n",
       "\n",
       "[180 rows x 45 columns]"
      ]
     },
     "execution_count": 12,
     "metadata": {},
     "output_type": "execute_result"
    }
   ],
   "source": [
    "# Wykluczenie kolumny 'File_Index' z czyszczenia\n",
    "exclude_columns = ['File_Index'] \n",
    "\n",
    "# Pętla do zamiany danych na liczby\n",
    "for col in all_data.columns:\n",
    "    if col not in exclude_columns:\n",
    "        all_data[col] = all_data[col].apply(convert_to_number)\n",
    "\n",
    "all_data"
   ]
  },
  {
   "cell_type": "markdown",
   "metadata": {},
   "source": [
    "### 2.2 Utworzenie tabeli danych pogrupowanych pod względem nr próbki i odcinka pomiarowego"
   ]
  },
  {
   "cell_type": "code",
   "execution_count": 13,
   "metadata": {},
   "outputs": [],
   "source": [
    "# Utworzenie nowej kolumny z nr próki\n",
    "sample_data = all_data.copy()\n",
    "sample_data['Sample_Section'] = sample_data['File_Index'].apply(lambda x: '_'.join([x.split('_')[0], x.split('_')[2].split('.')[0]]))"
   ]
  },
  {
   "cell_type": "code",
   "execution_count": 14,
   "metadata": {},
   "outputs": [
    {
     "data": {
      "text/html": [
       "<div>\n",
       "<style scoped>\n",
       "    .dataframe tbody tr th:only-of-type {\n",
       "        vertical-align: middle;\n",
       "    }\n",
       "\n",
       "    .dataframe tbody tr th {\n",
       "        vertical-align: top;\n",
       "    }\n",
       "\n",
       "    .dataframe thead th {\n",
       "        text-align: right;\n",
       "    }\n",
       "</style>\n",
       "<table border=\"1\" class=\"dataframe\">\n",
       "  <thead>\n",
       "    <tr style=\"text-align: right;\">\n",
       "      <th></th>\n",
       "      <th>File_Index</th>\n",
       "      <th>Sample_Section</th>\n",
       "    </tr>\n",
       "  </thead>\n",
       "  <tbody>\n",
       "    <tr>\n",
       "      <th>0</th>\n",
       "      <td>51824_1_1.pdf_1</td>\n",
       "      <td>51824_1</td>\n",
       "    </tr>\n",
       "    <tr>\n",
       "      <th>1</th>\n",
       "      <td>51824_1_1.pdf_2</td>\n",
       "      <td>51824_1</td>\n",
       "    </tr>\n",
       "    <tr>\n",
       "      <th>2</th>\n",
       "      <td>51824_1_1.pdf_3</td>\n",
       "      <td>51824_1</td>\n",
       "    </tr>\n",
       "    <tr>\n",
       "      <th>3</th>\n",
       "      <td>51824_1_1.pdf_4</td>\n",
       "      <td>51824_1</td>\n",
       "    </tr>\n",
       "    <tr>\n",
       "      <th>4</th>\n",
       "      <td>51824_1_1.pdf_5</td>\n",
       "      <td>51824_1</td>\n",
       "    </tr>\n",
       "    <tr>\n",
       "      <th>5</th>\n",
       "      <td>51824_1_2.pdf_1</td>\n",
       "      <td>51824_2</td>\n",
       "    </tr>\n",
       "    <tr>\n",
       "      <th>6</th>\n",
       "      <td>51824_1_2.pdf_2</td>\n",
       "      <td>51824_2</td>\n",
       "    </tr>\n",
       "    <tr>\n",
       "      <th>7</th>\n",
       "      <td>51824_1_2.pdf_3</td>\n",
       "      <td>51824_2</td>\n",
       "    </tr>\n",
       "    <tr>\n",
       "      <th>8</th>\n",
       "      <td>51824_1_2.pdf_4</td>\n",
       "      <td>51824_2</td>\n",
       "    </tr>\n",
       "    <tr>\n",
       "      <th>9</th>\n",
       "      <td>51824_1_2.pdf_5</td>\n",
       "      <td>51824_2</td>\n",
       "    </tr>\n",
       "  </tbody>\n",
       "</table>\n",
       "</div>"
      ],
      "text/plain": [
       "        File_Index Sample_Section\n",
       "0  51824_1_1.pdf_1        51824_1\n",
       "1  51824_1_1.pdf_2        51824_1\n",
       "2  51824_1_1.pdf_3        51824_1\n",
       "3  51824_1_1.pdf_4        51824_1\n",
       "4  51824_1_1.pdf_5        51824_1\n",
       "5  51824_1_2.pdf_1        51824_2\n",
       "6  51824_1_2.pdf_2        51824_2\n",
       "7  51824_1_2.pdf_3        51824_2\n",
       "8  51824_1_2.pdf_4        51824_2\n",
       "9  51824_1_2.pdf_5        51824_2"
      ]
     },
     "execution_count": 14,
     "metadata": {},
     "output_type": "execute_result"
    }
   ],
   "source": [
    "sample_data[['File_Index', 'Sample_Section']].head(10)"
   ]
  },
  {
   "cell_type": "code",
   "execution_count": 15,
   "metadata": {},
   "outputs": [
    {
     "data": {
      "text/plain": [
       "Ra                1\n",
       "Rq                1\n",
       "Rt                1\n",
       "Rz                1\n",
       "Rmax              1\n",
       "Rp                1\n",
       "Rv                1\n",
       "Rc                1\n",
       "Rsm               0\n",
       "Rsk               0\n",
       "Rku               0\n",
       "Rdq               0\n",
       "Rt/Rz             0\n",
       "l                 0\n",
       "Lc                0\n",
       "mean Ra           0\n",
       "mean Rq           0\n",
       "mean Rt           0\n",
       "mean Rz           0\n",
       "mean Rmax         0\n",
       "mean Rp           0\n",
       "mean Rv           0\n",
       "mean Rc           0\n",
       "mean Rsm          0\n",
       "mean Rsk          0\n",
       "mean Rku          0\n",
       "mean Rdq          0\n",
       "sigma Ra          0\n",
       "sigma Rq          0\n",
       "sigma Rt          0\n",
       "sigma Rz          0\n",
       "sigma Rmax        0\n",
       "sigma Rp          0\n",
       "sigma Rv          0\n",
       "sigma Rc          0\n",
       "sigma Rsm         0\n",
       "sigma Rsk         0\n",
       "sigma Rku         0\n",
       "sigma Rdq         0\n",
       "Rk                0\n",
       "Rpk               0\n",
       "Rvk               0\n",
       "Rmr1              0\n",
       "Rmr2              0\n",
       "File_Index        0\n",
       "Sample_Section    0\n",
       "dtype: int64"
      ]
     },
     "execution_count": 15,
     "metadata": {},
     "output_type": "execute_result"
    }
   ],
   "source": [
    "sample_data.isnull().sum()"
   ]
  },
  {
   "cell_type": "code",
   "execution_count": 16,
   "metadata": {},
   "outputs": [
    {
     "data": {
      "text/html": [
       "<div>\n",
       "<style scoped>\n",
       "    .dataframe tbody tr th:only-of-type {\n",
       "        vertical-align: middle;\n",
       "    }\n",
       "\n",
       "    .dataframe tbody tr th {\n",
       "        vertical-align: top;\n",
       "    }\n",
       "\n",
       "    .dataframe thead th {\n",
       "        text-align: right;\n",
       "    }\n",
       "</style>\n",
       "<table border=\"1\" class=\"dataframe\">\n",
       "  <thead>\n",
       "    <tr style=\"text-align: right;\">\n",
       "      <th></th>\n",
       "      <th>Ra</th>\n",
       "      <th>Rq</th>\n",
       "      <th>Rt</th>\n",
       "      <th>Rz</th>\n",
       "      <th>Rmax</th>\n",
       "      <th>Rp</th>\n",
       "      <th>Rv</th>\n",
       "      <th>Rc</th>\n",
       "      <th>Rsm</th>\n",
       "      <th>Rsk</th>\n",
       "      <th>...</th>\n",
       "      <th>sigma Rsk</th>\n",
       "      <th>sigma Rku</th>\n",
       "      <th>sigma Rdq</th>\n",
       "      <th>Rk</th>\n",
       "      <th>Rpk</th>\n",
       "      <th>Rvk</th>\n",
       "      <th>Rmr1</th>\n",
       "      <th>Rmr2</th>\n",
       "      <th>File_Index</th>\n",
       "      <th>Sample_Section</th>\n",
       "    </tr>\n",
       "  </thead>\n",
       "  <tbody>\n",
       "    <tr>\n",
       "      <th>55</th>\n",
       "      <td>NaN</td>\n",
       "      <td>NaN</td>\n",
       "      <td>NaN</td>\n",
       "      <td>NaN</td>\n",
       "      <td>NaN</td>\n",
       "      <td>NaN</td>\n",
       "      <td>NaN</td>\n",
       "      <td>NaN</td>\n",
       "      <td>13.8</td>\n",
       "      <td>0.309</td>\n",
       "      <td>...</td>\n",
       "      <td>0.0</td>\n",
       "      <td>0.0</td>\n",
       "      <td>0.0</td>\n",
       "      <td>0.664</td>\n",
       "      <td>0.37</td>\n",
       "      <td>0.184</td>\n",
       "      <td>8.65</td>\n",
       "      <td>92.0</td>\n",
       "      <td>79028_1_3.pdf_1</td>\n",
       "      <td>79028_3</td>\n",
       "    </tr>\n",
       "  </tbody>\n",
       "</table>\n",
       "<p>1 rows × 46 columns</p>\n",
       "</div>"
      ],
      "text/plain": [
       "    Ra  Rq  Rt  Rz  Rmax  Rp  Rv  Rc   Rsm    Rsk  ...  sigma Rsk  sigma Rku  \\\n",
       "55 NaN NaN NaN NaN   NaN NaN NaN NaN  13.8  0.309  ...        0.0        0.0   \n",
       "\n",
       "    sigma Rdq     Rk   Rpk    Rvk  Rmr1  Rmr2       File_Index  Sample_Section  \n",
       "55        0.0  0.664  0.37  0.184  8.65  92.0  79028_1_3.pdf_1         79028_3  \n",
       "\n",
       "[1 rows x 46 columns]"
      ]
     },
     "execution_count": 16,
     "metadata": {},
     "output_type": "execute_result"
    }
   ],
   "source": [
    "nan_raws = sample_data[sample_data.isna().any(axis=1)]\n",
    "nan_raws"
   ]
  },
  {
   "cell_type": "code",
   "execution_count": 17,
   "metadata": {},
   "outputs": [
    {
     "data": {
      "text/html": [
       "<div>\n",
       "<style scoped>\n",
       "    .dataframe tbody tr th:only-of-type {\n",
       "        vertical-align: middle;\n",
       "    }\n",
       "\n",
       "    .dataframe tbody tr th {\n",
       "        vertical-align: top;\n",
       "    }\n",
       "\n",
       "    .dataframe thead th {\n",
       "        text-align: right;\n",
       "    }\n",
       "</style>\n",
       "<table border=\"1\" class=\"dataframe\">\n",
       "  <thead>\n",
       "    <tr style=\"text-align: right;\">\n",
       "      <th></th>\n",
       "      <th>Ra</th>\n",
       "      <th>Rq</th>\n",
       "      <th>Rt</th>\n",
       "      <th>Rz</th>\n",
       "      <th>Rmax</th>\n",
       "      <th>Rp</th>\n",
       "      <th>Rv</th>\n",
       "      <th>Rc</th>\n",
       "      <th>Rsm</th>\n",
       "      <th>Rsk</th>\n",
       "      <th>...</th>\n",
       "      <th>sigma Rsk</th>\n",
       "      <th>sigma Rku</th>\n",
       "      <th>sigma Rdq</th>\n",
       "      <th>Rk</th>\n",
       "      <th>Rpk</th>\n",
       "      <th>Rvk</th>\n",
       "      <th>Rmr1</th>\n",
       "      <th>Rmr2</th>\n",
       "      <th>File_Index</th>\n",
       "      <th>Sample_Section</th>\n",
       "    </tr>\n",
       "  </thead>\n",
       "  <tbody>\n",
       "  </tbody>\n",
       "</table>\n",
       "<p>0 rows × 46 columns</p>\n",
       "</div>"
      ],
      "text/plain": [
       "Empty DataFrame\n",
       "Columns: [Ra, Rq, Rt, Rz, Rmax, Rp, Rv, Rc, Rsm, Rsk, Rku, Rdq, Rt/Rz, l, Lc, mean Ra, mean Rq, mean Rt, mean Rz, mean Rmax, mean Rp, mean Rv, mean Rc, mean Rsm, mean Rsk, mean Rku, mean Rdq, sigma Ra, sigma Rq, sigma Rt, sigma Rz, sigma Rmax, sigma Rp, sigma Rv, sigma Rc, sigma Rsm, sigma Rsk, sigma Rku, sigma Rdq, Rk, Rpk, Rvk, Rmr1, Rmr2, File_Index, Sample_Section]\n",
       "Index: []\n",
       "\n",
       "[0 rows x 46 columns]"
      ]
     },
     "execution_count": 17,
     "metadata": {},
     "output_type": "execute_result"
    }
   ],
   "source": [
    "sample_data = sample_data.dropna()\n",
    "sample_data[sample_data.isna().any(axis=1)]"
   ]
  },
  {
   "cell_type": "markdown",
   "metadata": {},
   "source": [
    "## 3. Analiza statystyczna danych\n",
    "Zebrane z raportów dane nt. wartości parametrów chropowatości badanych zaworów zostaną poddane analizom statystycznym w celu odnalezienia ewentualnych różnic pomiędzy zaworami."
   ]
  },
  {
   "cell_type": "code",
   "execution_count": 18,
   "metadata": {},
   "outputs": [],
   "source": [
    "# Lista parametrów do analizy\n",
    "parameters = ['Ra', 'Rq', 'Rt', 'Rz', 'Rmax', 'Rp', 'Rv', 'Rsk', 'Rku', 'Rk', 'Rpk', 'Rvk']"
   ]
  },
  {
   "cell_type": "markdown",
   "metadata": {},
   "source": [
    "### 3.1 Obliczanie statystyk opisowych dla wybranych paramterów chropowatości"
   ]
  },
  {
   "cell_type": "code",
   "execution_count": 19,
   "metadata": {},
   "outputs": [
    {
     "name": "stdout",
     "output_type": "stream",
     "text": [
      "Statystyki dla Ra:\n",
      "                mean   std\n",
      "Sample_Section            \n",
      "208250_1        0.16  0.04\n",
      "208250_2        0.17  0.03\n",
      "208250_3        0.17  0.03\n",
      "51824_1         0.18  0.04\n",
      "51824_2         0.25  0.05\n",
      "51824_3         0.22  0.07\n",
      "79028_1         0.28  0.03\n",
      "79028_2         0.25  0.03\n",
      "79028_3         0.20  0.03\n",
      "88911_1         0.19  0.04\n",
      "88911_2         0.22  0.04\n",
      "88911_3         0.21  0.04\n",
      "Statystyki dla Rq:\n",
      "                mean   std\n",
      "Sample_Section            \n",
      "208250_1        0.21  0.05\n",
      "208250_2        0.22  0.04\n",
      "208250_3        0.23  0.03\n",
      "51824_1         0.23  0.05\n",
      "51824_2         0.31  0.06\n",
      "51824_3         0.28  0.08\n",
      "79028_1         0.35  0.03\n",
      "79028_2         0.32  0.04\n",
      "79028_3         0.25  0.03\n",
      "88911_1         0.25  0.06\n",
      "88911_2         0.29  0.05\n",
      "88911_3         0.27  0.05\n",
      "Statystyki dla Rt:\n",
      "                mean   std\n",
      "Sample_Section            \n",
      "208250_1        1.14  0.32\n",
      "208250_2        1.32  0.31\n",
      "208250_3        1.44  0.26\n",
      "51824_1         1.41  0.35\n",
      "51824_2         1.70  0.32\n",
      "51824_3         1.53  0.42\n",
      "79028_1         2.05  0.33\n",
      "79028_2         1.83  0.35\n",
      "79028_3         1.49  0.33\n",
      "88911_1         1.56  0.52\n",
      "88911_2         1.90  0.47\n",
      "88911_3         1.61  0.38\n",
      "Statystyki dla Rz:\n",
      "                mean   std\n",
      "Sample_Section            \n",
      "208250_1        0.74  0.13\n",
      "208250_2        0.88  0.16\n",
      "208250_3        0.95  0.14\n",
      "51824_1         0.92  0.23\n",
      "51824_2         1.23  0.25\n",
      "51824_3         1.07  0.31\n",
      "79028_1         1.37  0.14\n",
      "79028_2         1.28  0.20\n",
      "79028_3         1.02  0.12\n",
      "88911_1         0.99  0.15\n",
      "88911_2         1.20  0.21\n",
      "88911_3         1.06  0.19\n",
      "Statystyki dla Rmax:\n",
      "                mean   std\n",
      "Sample_Section            \n",
      "208250_1        1.06  0.33\n",
      "208250_2        1.22  0.30\n",
      "208250_3        1.24  0.16\n",
      "51824_1         1.31  0.34\n",
      "51824_2         1.62  0.31\n",
      "51824_3         1.46  0.44\n",
      "79028_1         1.92  0.33\n",
      "79028_2         1.73  0.38\n",
      "79028_3         1.45  0.33\n",
      "88911_1         1.47  0.52\n",
      "88911_2         1.68  0.43\n",
      "88911_3         1.50  0.40\n",
      "Statystyki dla Rp:\n",
      "                mean   std\n",
      "Sample_Section            \n",
      "208250_1        0.52  0.10\n",
      "208250_2        0.70  0.23\n",
      "208250_3        0.78  0.13\n",
      "51824_1         0.68  0.22\n",
      "51824_2         0.79  0.23\n",
      "51824_3         0.75  0.22\n",
      "79028_1         1.06  0.30\n",
      "79028_2         0.87  0.22\n",
      "79028_3         0.76  0.26\n",
      "88911_1         0.76  0.24\n",
      "88911_2         0.98  0.34\n",
      "88911_3         0.77  0.34\n",
      "Statystyki dla Rv:\n",
      "                mean   std\n",
      "Sample_Section            \n",
      "208250_1        0.61  0.24\n",
      "208250_2        0.62  0.14\n",
      "208250_3        0.66  0.19\n",
      "51824_1         0.73  0.19\n",
      "51824_2         0.91  0.29\n",
      "51824_3         0.77  0.28\n",
      "79028_1         0.99  0.26\n",
      "79028_2         0.95  0.19\n",
      "79028_3         0.73  0.14\n",
      "88911_1         0.80  0.37\n",
      "88911_2         0.91  0.22\n",
      "88911_3         0.84  0.20\n",
      "Statystyki dla Rsk:\n",
      "                mean   std\n",
      "Sample_Section            \n",
      "208250_1       -0.17  0.42\n",
      "208250_2        0.12  0.43\n",
      "208250_3        0.20  0.51\n",
      "51824_1         0.01  0.31\n",
      "51824_2        -0.07  0.60\n",
      "51824_3         0.04  0.58\n",
      "79028_1         0.15  0.54\n",
      "79028_2        -0.19  0.31\n",
      "79028_3         0.04  0.43\n",
      "88911_1        -0.02  0.58\n",
      "88911_2        -0.03  0.54\n",
      "88911_3        -0.06  0.62\n",
      "Statystyki dla Rku:\n",
      "                mean   std\n",
      "Sample_Section            \n",
      "208250_1        3.35  1.05\n",
      "208250_2        3.80  0.96\n",
      "208250_3        4.12  1.15\n",
      "51824_1         3.86  0.77\n",
      "51824_2         3.47  1.08\n",
      "51824_3         3.52  1.46\n",
      "79028_1         3.67  1.09\n",
      "79028_2         3.39  0.63\n",
      "79028_3         3.45  0.98\n",
      "88911_1         4.14  1.91\n",
      "88911_2         4.15  1.12\n",
      "88911_3         3.79  1.83\n",
      "Statystyki dla Rk:\n",
      "                mean   std\n",
      "Sample_Section            \n",
      "208250_1        0.47  0.12\n",
      "208250_2        0.49  0.08\n",
      "208250_3        0.50  0.07\n",
      "51824_1         0.49  0.13\n",
      "51824_2         0.75  0.18\n",
      "51824_3         0.64  0.23\n",
      "79028_1         0.78  0.16\n",
      "79028_2         0.74  0.11\n",
      "79028_3         0.61  0.10\n",
      "88911_1         0.54  0.09\n",
      "88911_2         0.63  0.11\n",
      "88911_3         0.66  0.13\n",
      "Statystyki dla Rpk:\n",
      "                mean   std\n",
      "Sample_Section            \n",
      "208250_1        0.21  0.06\n",
      "208250_2        0.26  0.10\n",
      "208250_3        0.30  0.08\n",
      "51824_1         0.27  0.07\n",
      "51824_2         0.25  0.11\n",
      "51824_3         0.25  0.09\n",
      "79028_1         0.42  0.13\n",
      "79028_2         0.32  0.13\n",
      "79028_3         0.27  0.07\n",
      "88911_1         0.29  0.10\n",
      "88911_2         0.34  0.15\n",
      "88911_3         0.25  0.11\n",
      "Statystyki dla Rvk:\n",
      "                mean   std\n",
      "Sample_Section            \n",
      "208250_1        0.26  0.21\n",
      "208250_2        0.24  0.08\n",
      "208250_3        0.24  0.07\n",
      "51824_1         0.29  0.08\n",
      "51824_2         0.37  0.16\n",
      "51824_3         0.32  0.13\n",
      "79028_1         0.36  0.11\n",
      "79028_2         0.40  0.11\n",
      "79028_3         0.26  0.06\n",
      "88911_1         0.32  0.30\n",
      "88911_2         0.35  0.11\n",
      "88911_3         0.31  0.09\n"
     ]
    }
   ],
   "source": [
    "for param in parameters:\n",
    "    print(f\"Statystyki dla {param}:\")\n",
    "    print(sample_data.groupby('Sample_Section')[param].agg(['mean', 'std']).round(2))         "
   ]
  },
  {
   "cell_type": "markdown",
   "metadata": {},
   "source": [
    "### 3.2 Test ANOVA i testy post hoc dla wybranych parametrów"
   ]
  },
  {
   "cell_type": "code",
   "execution_count": 20,
   "metadata": {},
   "outputs": [
    {
     "name": "stdout",
     "output_type": "stream",
     "text": [
      "Wynik ANOVA dla Ra: F_onewayResult(statistic=12.957195787860629, pvalue=1.3398437233965319e-17)\n"
     ]
    }
   ],
   "source": [
    "import scipy.stats as stats\n",
    "\n",
    "# Przeprowadzenie testu dla parametru Ra\n",
    "anova_result = stats.f_oneway(*[group[\"Ra\"].values for name, group in sample_data.groupby(\"Sample_Section\")])\n",
    "print(f\"Wynik ANOVA dla Ra: {anova_result}\")"
   ]
  },
  {
   "cell_type": "code",
   "execution_count": 21,
   "metadata": {},
   "outputs": [],
   "source": [
    "import statsmodels.stats.multicomp as mc \n",
    "\n",
    "# Przygotowanie danych do przeprowadzenia testu Tukeya\n",
    "comp = mc.MultiComparison(sample_data['Ra'], sample_data['Sample_Section'])"
   ]
  },
  {
   "cell_type": "code",
   "execution_count": 22,
   "metadata": {},
   "outputs": [
    {
     "name": "stdout",
     "output_type": "stream",
     "text": [
      "  Multiple Comparison of Means - Tukey HSD, FWER=0.05   \n",
      "========================================================\n",
      " group1   group2  meandiff p-adj   lower   upper  reject\n",
      "--------------------------------------------------------\n",
      "208250_1 208250_2   0.0037    1.0 -0.0441  0.0516  False\n",
      "208250_1 208250_3   0.0109 0.9998  -0.037  0.0587  False\n",
      "208250_1  51824_1   0.0135 0.9987 -0.0344  0.0613  False\n",
      "208250_1  51824_2   0.0839    0.0  0.0361  0.1318   True\n",
      "208250_1  51824_3    0.059 0.0038  0.0112  0.1068   True\n",
      "208250_1  79028_1   0.1145    0.0  0.0667  0.1624   True\n",
      "208250_1  79028_2   0.0871    0.0  0.0393   0.135   True\n",
      "208250_1  79028_3   0.0374 0.3171 -0.0112  0.0861  False\n",
      "208250_1  88911_1   0.0269 0.7776 -0.0209  0.0748  False\n",
      "208250_1  88911_2   0.0601 0.0028  0.0122  0.1079   True\n",
      "208250_1  88911_3   0.0493 0.0366  0.0015  0.0972   True\n",
      "208250_2 208250_3   0.0071    1.0 -0.0407   0.055  False\n",
      "208250_2  51824_1   0.0097 0.9999 -0.0381  0.0576  False\n",
      "208250_2  51824_2   0.0802    0.0  0.0324   0.128   True\n",
      "208250_2  51824_3   0.0553 0.0096  0.0074  0.1031   True\n",
      "208250_2  79028_1   0.1108    0.0   0.063  0.1586   True\n",
      "208250_2  79028_2   0.0834    0.0  0.0356  0.1312   True\n",
      "208250_2  79028_3   0.0337 0.4838  -0.015  0.0824  False\n",
      "208250_2  88911_1   0.0232 0.9039 -0.0246   0.071  False\n",
      "208250_2  88911_2   0.0563 0.0074  0.0085  0.1042   True\n",
      "208250_2  88911_3   0.0456 0.0773 -0.0022  0.0934  False\n",
      "208250_3  51824_1   0.0026    1.0 -0.0452  0.0504  False\n",
      "208250_3  51824_2   0.0731 0.0001  0.0252  0.1209   True\n",
      "208250_3  51824_3   0.0481 0.0469  0.0003   0.096   True\n",
      "208250_3  79028_1   0.1037    0.0  0.0558  0.1515   True\n",
      "208250_3  79028_2   0.0763    0.0  0.0284  0.1241   True\n",
      "208250_3  79028_3   0.0266 0.8104 -0.0221  0.0752  False\n",
      "208250_3  88911_1   0.0161 0.9937 -0.0318  0.0639  False\n",
      "208250_3  88911_2   0.0492 0.0376  0.0014   0.097   True\n",
      "208250_3  88911_3   0.0385 0.2525 -0.0094  0.0863  False\n",
      " 51824_1  51824_2   0.0705 0.0001  0.0226  0.1183   True\n",
      " 51824_1  51824_3   0.0455 0.0782 -0.0023  0.0934  False\n",
      " 51824_1  79028_1   0.1011    0.0  0.0532  0.1489   True\n",
      " 51824_1  79028_2   0.0737 0.0001  0.0258  0.1215   True\n",
      " 51824_1  79028_3    0.024 0.8944 -0.0247  0.0726  False\n",
      " 51824_1  88911_1   0.0135 0.9987 -0.0344  0.0613  False\n",
      " 51824_1  88911_2   0.0466 0.0637 -0.0012  0.0944  False\n",
      " 51824_1  88911_3   0.0359  0.356  -0.012  0.0837  False\n",
      " 51824_2  51824_3  -0.0249 0.8526 -0.0728  0.0229  False\n",
      " 51824_2  79028_1   0.0306 0.6085 -0.0172  0.0784  False\n",
      " 51824_2  79028_2   0.0032    1.0 -0.0446   0.051  False\n",
      " 51824_2  79028_3  -0.0465  0.076 -0.0952  0.0022  False\n",
      " 51824_2  88911_1   -0.057 0.0062 -0.1048 -0.0092   True\n",
      " 51824_2  88911_2  -0.0239 0.8857 -0.0717   0.024  False\n",
      " 51824_2  88911_3  -0.0346  0.413 -0.0824  0.0132  False\n",
      " 51824_3  79028_1   0.0555  0.009  0.0077  0.1034   True\n",
      " 51824_3  79028_2   0.0281 0.7258 -0.0197   0.076  False\n",
      " 51824_3  79028_3  -0.0216 0.9469 -0.0702  0.0271  False\n",
      " 51824_3  88911_1  -0.0321 0.5357 -0.0799  0.0158  False\n",
      " 51824_3  88911_2   0.0011    1.0 -0.0468  0.0489  False\n",
      " 51824_3  88911_3  -0.0097 0.9999 -0.0575  0.0382  False\n",
      " 79028_1  79028_2  -0.0274  0.758 -0.0752  0.0204  False\n",
      " 79028_1  79028_3  -0.0771    0.0 -0.1258 -0.0284   True\n",
      " 79028_1  88911_1  -0.0876    0.0 -0.1354 -0.0398   True\n",
      " 79028_1  88911_2  -0.0545 0.0116 -0.1023 -0.0066   True\n",
      " 79028_1  88911_3  -0.0652 0.0007  -0.113 -0.0174   True\n",
      " 79028_2  79028_3  -0.0497 0.0407 -0.0984  -0.001   True\n",
      " 79028_2  88911_1  -0.0602 0.0028  -0.108 -0.0124   True\n",
      " 79028_2  88911_2  -0.0271 0.7721 -0.0749  0.0208  False\n",
      " 79028_2  88911_3  -0.0378 0.2771 -0.0856    0.01  False\n",
      " 79028_3  88911_1  -0.0105 0.9999 -0.0592  0.0382  False\n",
      " 79028_3  88911_2   0.0226 0.9267  -0.026  0.0713  False\n",
      " 79028_3  88911_3   0.0119 0.9996 -0.0368  0.0606  False\n",
      " 88911_1  88911_2   0.0331 0.4831 -0.0147   0.081  False\n",
      " 88911_1  88911_3   0.0224  0.923 -0.0254  0.0702  False\n",
      " 88911_2  88911_3  -0.0107 0.9998 -0.0586  0.0371  False\n",
      "--------------------------------------------------------\n"
     ]
    }
   ],
   "source": [
    "tukey_results_Ra = comp.tukeyhsd()\n",
    "print(tukey_results_Ra)"
   ]
  },
  {
   "cell_type": "code",
   "execution_count": 23,
   "metadata": {},
   "outputs": [
    {
     "name": "stdout",
     "output_type": "stream",
     "text": [
      "      group1   group2\n",
      "3   208250_1  51824_2\n",
      "4   208250_1  51824_3\n",
      "5   208250_1  79028_1\n",
      "6   208250_1  79028_2\n",
      "9   208250_1  88911_2\n",
      "10  208250_1  88911_3\n",
      "13  208250_2  51824_2\n",
      "14  208250_2  51824_3\n",
      "15  208250_2  79028_1\n",
      "16  208250_2  79028_2\n",
      "19  208250_2  88911_2\n",
      "22  208250_3  51824_2\n",
      "23  208250_3  51824_3\n",
      "24  208250_3  79028_1\n",
      "25  208250_3  79028_2\n",
      "28  208250_3  88911_2\n",
      "30   51824_1  51824_2\n",
      "32   51824_1  79028_1\n",
      "33   51824_1  79028_2\n",
      "42   51824_2  88911_1\n",
      "45   51824_3  79028_1\n",
      "52   79028_1  79028_3\n",
      "53   79028_1  88911_1\n",
      "54   79028_1  88911_2\n",
      "55   79028_1  88911_3\n",
      "56   79028_2  79028_3\n",
      "57   79028_2  88911_1\n"
     ]
    }
   ],
   "source": [
    "# Konwersja wyników testu Tukeya HSD na DataFrame\n",
    "tukey_df = pd.DataFrame(data=tukey_results_Ra._results_table.data[1:], columns=tukey_results_Ra._results_table.data[0])\n",
    "\n",
    "# Filtrowanie par z istotną różnicą statystyczną\n",
    "istotne_pary_df = tukey_df[tukey_df['reject'] == True]\n",
    "\n",
    "print(istotne_pary_df[['group1', 'group2']])\n"
   ]
  },
  {
   "cell_type": "markdown",
   "metadata": {},
   "source": [
    "### 3.3 Przeprowadzenie analizy statysytcznej ANOVA i testu Tukeya dla pozostałych paramterów"
   ]
  },
  {
   "cell_type": "code",
   "execution_count": 24,
   "metadata": {},
   "outputs": [],
   "source": [
    "# Funkcja do przeprowadzenia testu ANOVA, a gdy pozytywny przeprowadzi test Tukeya i wyobrębni pary o istotnych różnicach\n",
    "def ANOVA_Tukey(parametr):\n",
    "    # Przeprowadzenie testu ANOVA dla jednego parametru\n",
    "    anova_result = stats.f_oneway(*[group[parametr].values for name, group in sample_data.groupby('Sample_Section')])\n",
    "    print(f\"Wynik ANOVA dla {parametr}: {anova_result}\")\n",
    "\n",
    "    if anova_result.pvalue < 0.05:\n",
    "        comp = mc.MultiComparison(sample_data[parametr], sample_data['Sample_Section'])\n",
    "        tukey_result = comp.tukeyhsd()\n",
    "        istotne_pary_df = pd.DataFrame(data=tukey_result._results_table.data[1:], columns=tukey_result._results_table.data[0])\n",
    "        istotne_pary_df = istotne_pary_df[istotne_pary_df['reject'] == True]\n",
    "        print(f'Istotne pary dla {parametr}:\\n', istotne_pary_df[['group1', 'group2']])\n",
    "        return istotne_pary_df\n",
    "    else:\n",
    "        print(f'Brak istotnych różnic dla {parametr}')\n",
    "        return None"
   ]
  },
  {
   "cell_type": "code",
   "execution_count": 25,
   "metadata": {},
   "outputs": [
    {
     "name": "stdout",
     "output_type": "stream",
     "text": [
      "Wynik ANOVA dla Ra: F_onewayResult(statistic=12.957195787860629, pvalue=1.3398437233965319e-17)\n",
      "Istotne pary dla Ra:\n",
      "       group1   group2\n",
      "3   208250_1  51824_2\n",
      "4   208250_1  51824_3\n",
      "5   208250_1  79028_1\n",
      "6   208250_1  79028_2\n",
      "9   208250_1  88911_2\n",
      "10  208250_1  88911_3\n",
      "13  208250_2  51824_2\n",
      "14  208250_2  51824_3\n",
      "15  208250_2  79028_1\n",
      "16  208250_2  79028_2\n",
      "19  208250_2  88911_2\n",
      "22  208250_3  51824_2\n",
      "23  208250_3  51824_3\n",
      "24  208250_3  79028_1\n",
      "25  208250_3  79028_2\n",
      "28  208250_3  88911_2\n",
      "30   51824_1  51824_2\n",
      "32   51824_1  79028_1\n",
      "33   51824_1  79028_2\n",
      "42   51824_2  88911_1\n",
      "45   51824_3  79028_1\n",
      "52   79028_1  79028_3\n",
      "53   79028_1  88911_1\n",
      "54   79028_1  88911_2\n",
      "55   79028_1  88911_3\n",
      "56   79028_2  79028_3\n",
      "57   79028_2  88911_1\n",
      "Wynik ANOVA dla Rq: F_onewayResult(statistic=11.435781614639572, pvalue=1.0256578983334871e-15)\n",
      "Istotne pary dla Rq:\n",
      "       group1   group2\n",
      "3   208250_1  51824_2\n",
      "4   208250_1  51824_3\n",
      "5   208250_1  79028_1\n",
      "6   208250_1  79028_2\n",
      "9   208250_1  88911_2\n",
      "13  208250_2  51824_2\n",
      "14  208250_2  51824_3\n",
      "15  208250_2  79028_1\n",
      "16  208250_2  79028_2\n",
      "19  208250_2  88911_2\n",
      "22  208250_3  51824_2\n",
      "24  208250_3  79028_1\n",
      "25  208250_3  79028_2\n",
      "28  208250_3  88911_2\n",
      "30   51824_1  51824_2\n",
      "32   51824_1  79028_1\n",
      "33   51824_1  79028_2\n",
      "45   51824_3  79028_1\n",
      "52   79028_1  79028_3\n",
      "53   79028_1  88911_1\n",
      "55   79028_1  88911_3\n",
      "56   79028_2  79028_3\n",
      "57   79028_2  88911_1\n",
      "Wynik ANOVA dla Rt: F_onewayResult(statistic=7.163026304632849, pvalue=6.356291161249865e-10)\n",
      "Istotne pary dla Rt:\n",
      "       group1   group2\n",
      "3   208250_1  51824_2\n",
      "5   208250_1  79028_1\n",
      "6   208250_1  79028_2\n",
      "9   208250_1  88911_2\n",
      "10  208250_1  88911_3\n",
      "15  208250_2  79028_1\n",
      "16  208250_2  79028_2\n",
      "19  208250_2  88911_2\n",
      "24  208250_3  79028_1\n",
      "28  208250_3  88911_2\n",
      "32   51824_1  79028_1\n",
      "36   51824_1  88911_2\n",
      "45   51824_3  79028_1\n",
      "52   79028_1  79028_3\n",
      "53   79028_1  88911_1\n",
      "Wynik ANOVA dla Rz: F_onewayResult(statistic=13.118183128003114, pvalue=8.566738503059099e-18)\n",
      "Istotne pary dla Rz:\n",
      "       group1   group2\n",
      "3   208250_1  51824_2\n",
      "4   208250_1  51824_3\n",
      "5   208250_1  79028_1\n",
      "6   208250_1  79028_2\n",
      "7   208250_1  79028_3\n",
      "8   208250_1  88911_1\n",
      "9   208250_1  88911_2\n",
      "10  208250_1  88911_3\n",
      "13  208250_2  51824_2\n",
      "15  208250_2  79028_1\n",
      "16  208250_2  79028_2\n",
      "19  208250_2  88911_2\n",
      "22  208250_3  51824_2\n",
      "24  208250_3  79028_1\n",
      "25  208250_3  79028_2\n",
      "28  208250_3  88911_2\n",
      "30   51824_1  51824_2\n",
      "32   51824_1  79028_1\n",
      "33   51824_1  79028_2\n",
      "36   51824_1  88911_2\n",
      "42   51824_2  88911_1\n",
      "45   51824_3  79028_1\n",
      "52   79028_1  79028_3\n",
      "53   79028_1  88911_1\n",
      "55   79028_1  88911_3\n",
      "56   79028_2  79028_3\n",
      "57   79028_2  88911_1\n",
      "Wynik ANOVA dla Rmax: F_onewayResult(statistic=6.553591025522583, pvalue=4.9102794581173835e-09)\n",
      "Istotne pary dla Rmax:\n",
      "       group1   group2\n",
      "3   208250_1  51824_2\n",
      "5   208250_1  79028_1\n",
      "6   208250_1  79028_2\n",
      "9   208250_1  88911_2\n",
      "15  208250_2  79028_1\n",
      "16  208250_2  79028_2\n",
      "19  208250_2  88911_2\n",
      "24  208250_3  79028_1\n",
      "25  208250_3  79028_2\n",
      "32   51824_1  79028_1\n",
      "45   51824_3  79028_1\n",
      "52   79028_1  79028_3\n",
      "53   79028_1  88911_1\n",
      "Wynik ANOVA dla Rp: F_onewayResult(statistic=4.776381953609177, pvalue=2.261759821218319e-06)\n",
      "Istotne pary dla Rp:\n",
      "       group1   group2\n",
      "5   208250_1  79028_1\n",
      "6   208250_1  79028_2\n",
      "9   208250_1  88911_2\n",
      "15  208250_2  79028_1\n",
      "32   51824_1  79028_1\n",
      "36   51824_1  88911_2\n",
      "45   51824_3  79028_1\n",
      "53   79028_1  88911_1\n",
      "Wynik ANOVA dla Rv: F_onewayResult(statistic=4.489741359174181, pvalue=6.187055853264583e-06)\n",
      "Istotne pary dla Rv:\n",
      "       group1   group2\n",
      "3   208250_1  51824_2\n",
      "5   208250_1  79028_1\n",
      "6   208250_1  79028_2\n",
      "9   208250_1  88911_2\n",
      "13  208250_2  51824_2\n",
      "15  208250_2  79028_1\n",
      "16  208250_2  79028_2\n",
      "19  208250_2  88911_2\n",
      "24  208250_3  79028_1\n",
      "25  208250_3  79028_2\n",
      "Wynik ANOVA dla Rsk: F_onewayResult(statistic=0.8454445602848363, pvalue=0.595014441259847)\n",
      "Brak istotnych różnic dla Rsk\n",
      "Wynik ANOVA dla Rku: F_onewayResult(statistic=0.8756625194088172, pvalue=0.5653770145765643)\n",
      "Brak istotnych różnic dla Rku\n",
      "Wynik ANOVA dla Rk: F_onewayResult(statistic=10.285218496166936, pvalue=3.1340086261076614e-14)\n",
      "Istotne pary dla Rk:\n",
      "       group1   group2\n",
      "3   208250_1  51824_2\n",
      "4   208250_1  51824_3\n",
      "5   208250_1  79028_1\n",
      "6   208250_1  79028_2\n",
      "10  208250_1  88911_3\n",
      "13  208250_2  51824_2\n",
      "15  208250_2  79028_1\n",
      "16  208250_2  79028_2\n",
      "20  208250_2  88911_3\n",
      "22  208250_3  51824_2\n",
      "24  208250_3  79028_1\n",
      "25  208250_3  79028_2\n",
      "30   51824_1  51824_2\n",
      "32   51824_1  79028_1\n",
      "33   51824_1  79028_2\n",
      "37   51824_1  88911_3\n",
      "42   51824_2  88911_1\n",
      "52   79028_1  79028_3\n",
      "53   79028_1  88911_1\n",
      "57   79028_2  88911_1\n",
      "Wynik ANOVA dla Rpk: F_onewayResult(statistic=4.026738797335155, pvalue=3.154534063118393e-05)\n",
      "Istotne pary dla Rpk:\n",
      "       group1   group2\n",
      "5   208250_1  79028_1\n",
      "9   208250_1  88911_2\n",
      "15  208250_2  79028_1\n",
      "32   51824_1  79028_1\n",
      "39   51824_2  79028_1\n",
      "45   51824_3  79028_1\n",
      "52   79028_1  79028_3\n",
      "53   79028_1  88911_1\n",
      "55   79028_1  88911_3\n",
      "Wynik ANOVA dla Rvk: F_onewayResult(statistic=2.0708706922106055, pvalue=0.02500159550969912)\n",
      "Istotne pary dla Rvk:\n",
      " Empty DataFrame\n",
      "Columns: [group1, group2]\n",
      "Index: []\n"
     ]
    }
   ],
   "source": [
    "wyniki_pary = {}\n",
    "for parametr in parameters:\n",
    "    wyniki_pary[parametr] = ANOVA_Tukey(parametr)"
   ]
  },
  {
   "cell_type": "markdown",
   "metadata": {},
   "source": [
    "### 3.4 Przeprowadzenie analizy krzyżowej dla wyodrębnionych par o istotnych różnicach "
   ]
  },
  {
   "cell_type": "code",
   "execution_count": 26,
   "metadata": {},
   "outputs": [
    {
     "name": "stdout",
     "output_type": "stream",
     "text": [
      "Pary ('208250_1', '51824_2') są istotne dla parametrów: ['Ra', 'Rq', 'Rt', 'Rz', 'Rmax', 'Rv', 'Rk']\n",
      "Pary ('208250_1', '51824_3') są istotne dla parametrów: ['Ra', 'Rq', 'Rz', 'Rk']\n",
      "Pary ('208250_1', '79028_1') są istotne dla parametrów: ['Ra', 'Rq', 'Rt', 'Rz', 'Rmax', 'Rp', 'Rv', 'Rk', 'Rpk']\n",
      "Pary ('208250_1', '79028_2') są istotne dla parametrów: ['Ra', 'Rq', 'Rt', 'Rz', 'Rmax', 'Rp', 'Rv', 'Rk']\n",
      "Pary ('208250_1', '88911_2') są istotne dla parametrów: ['Ra', 'Rq', 'Rt', 'Rz', 'Rmax', 'Rp', 'Rv', 'Rpk']\n",
      "Pary ('208250_1', '88911_3') są istotne dla parametrów: ['Ra', 'Rt', 'Rz', 'Rk']\n",
      "Pary ('208250_2', '51824_2') są istotne dla parametrów: ['Ra', 'Rq', 'Rz', 'Rv', 'Rk']\n",
      "Pary ('208250_2', '51824_3') są istotne dla parametrów: ['Ra', 'Rq']\n",
      "Pary ('208250_2', '79028_1') są istotne dla parametrów: ['Ra', 'Rq', 'Rt', 'Rz', 'Rmax', 'Rp', 'Rv', 'Rk', 'Rpk']\n",
      "Pary ('208250_2', '79028_2') są istotne dla parametrów: ['Ra', 'Rq', 'Rt', 'Rz', 'Rmax', 'Rv', 'Rk']\n",
      "Pary ('208250_2', '88911_2') są istotne dla parametrów: ['Ra', 'Rq', 'Rt', 'Rz', 'Rmax', 'Rv']\n",
      "Pary ('208250_3', '51824_2') są istotne dla parametrów: ['Ra', 'Rq', 'Rz', 'Rk']\n",
      "Pary ('208250_3', '79028_1') są istotne dla parametrów: ['Ra', 'Rq', 'Rt', 'Rz', 'Rmax', 'Rv', 'Rk']\n",
      "Pary ('208250_3', '79028_2') są istotne dla parametrów: ['Ra', 'Rq', 'Rz', 'Rmax', 'Rv', 'Rk']\n",
      "Pary ('208250_3', '88911_2') są istotne dla parametrów: ['Ra', 'Rq', 'Rt', 'Rz']\n",
      "Pary ('51824_1', '51824_2') są istotne dla parametrów: ['Ra', 'Rq', 'Rz', 'Rk']\n",
      "Pary ('51824_1', '79028_1') są istotne dla parametrów: ['Ra', 'Rq', 'Rt', 'Rz', 'Rmax', 'Rp', 'Rk', 'Rpk']\n",
      "Pary ('51824_1', '79028_2') są istotne dla parametrów: ['Ra', 'Rq', 'Rz', 'Rk']\n",
      "Pary ('51824_2', '88911_1') są istotne dla parametrów: ['Ra', 'Rz', 'Rk']\n",
      "Pary ('51824_3', '79028_1') są istotne dla parametrów: ['Ra', 'Rq', 'Rt', 'Rz', 'Rmax', 'Rp', 'Rpk']\n",
      "Pary ('79028_1', '79028_3') są istotne dla parametrów: ['Ra', 'Rq', 'Rt', 'Rz', 'Rmax', 'Rk', 'Rpk']\n",
      "Pary ('79028_1', '88911_1') są istotne dla parametrów: ['Ra', 'Rq', 'Rt', 'Rz', 'Rmax', 'Rp', 'Rk', 'Rpk']\n",
      "Pary ('79028_1', '88911_3') są istotne dla parametrów: ['Ra', 'Rq', 'Rz', 'Rpk']\n",
      "Pary ('79028_2', '79028_3') są istotne dla parametrów: ['Ra', 'Rq', 'Rz']\n",
      "Pary ('79028_2', '88911_1') są istotne dla parametrów: ['Ra', 'Rq', 'Rz', 'Rk']\n",
      "Pary ('51824_1', '88911_2') są istotne dla parametrów: ['Rt', 'Rz', 'Rp']\n"
     ]
    }
   ],
   "source": [
    "wszystkie_istotne_pary = {}\n",
    "\n",
    "for parametr, df in wyniki_pary.items():\n",
    "    if df is not None:\n",
    "        for index, row in df.iterrows():\n",
    "            para = (row['group1'], row['group2'])\n",
    "            wszystkie_istotne_pary.setdefault(para, []).append(parametr)\n",
    "\n",
    "# Analiza skrzyżowana - wyszukiwanie par występujących w wielu parametrach\n",
    "czesto_wystepujace_pary = {para: parametry for para, parametry in wszystkie_istotne_pary.items() if len(parametry) > 1}\n",
    "\n",
    "for para, parametry in czesto_wystepujace_pary.items():\n",
    "    print(f\"Pary {para} są istotne dla parametrów: {parametry}\")"
   ]
  },
  {
   "cell_type": "code",
   "execution_count": 27,
   "metadata": {},
   "outputs": [
    {
     "name": "stdout",
     "output_type": "stream",
     "text": [
      "('208250_1', '79028_1'): ['Ra', 'Rq', 'Rt', 'Rz', 'Rmax', 'Rp', 'Rv', 'Rk', 'Rpk']\n",
      "('208250_2', '51824_2'): ['Ra', 'Rq', 'Rz', 'Rv', 'Rk']\n",
      "('208250_2', '79028_2'): ['Ra', 'Rq', 'Rt', 'Rz', 'Rmax', 'Rv', 'Rk']\n",
      "('208250_2', '88911_2'): ['Ra', 'Rq', 'Rt', 'Rz', 'Rmax', 'Rv']\n",
      "('51824_1', '79028_1'): ['Ra', 'Rq', 'Rt', 'Rz', 'Rmax', 'Rp', 'Rk', 'Rpk']\n",
      "('79028_1', '88911_1'): ['Ra', 'Rq', 'Rt', 'Rz', 'Rmax', 'Rp', 'Rk', 'Rpk']\n"
     ]
    }
   ],
   "source": [
    "# Filtrujemy pary, eliminując te wewnątrz tej samej próbki\n",
    "filtr_pary = [para for para in czesto_wystepujace_pary if para[0].split('_')[0] != para[1].split('_')[0]]\n",
    "\n",
    "# Filtrujemy dalej, aby zachować tylko te pary, które mają taki sam odcinek pomiarowy\n",
    "filtr_pary = [para for para in filtr_pary if para[0].split('_')[1] == para[1].split('_')[1]]\n",
    "\n",
    "istotne_parametry_dla_wybranych_par = {para: czesto_wystepujace_pary[para] for para in filtr_pary if para in czesto_wystepujace_pary}\n",
    "\n",
    "# Wyświetlamy istotne parametry dla wybranych par\n",
    "for para, parametry in istotne_parametry_dla_wybranych_par.items():\n",
    "    print(f\"{para}: {parametry}\")"
   ]
  },
  {
   "cell_type": "markdown",
   "metadata": {},
   "source": [
    "### 3.5 Wizualizacja wyników analizy krzyżowej"
   ]
  },
  {
   "cell_type": "code",
   "execution_count": null,
   "metadata": {},
   "outputs": [],
   "source": []
  },
  {
   "cell_type": "code",
   "execution_count": 28,
   "metadata": {},
   "outputs": [],
   "source": [
    "from sklearn.cluster import KMeans\n",
    "import seaborn as sns\n",
    "\n",
    "# Ustawienie zmiennej środowiskowej, aby uniknąć przecieku pamięci na Windows\n",
    "os.environ['OMP_NUM_THREADS'] = '1'\n",
    "\n",
    "# Wybór próbki na podstawie wyników analizy krzyżowej\n",
    "wybrane_probki = ['208250_1', '51824_2', '79028_1', '88911_2']\n",
    "\n",
    "# Filtracja danych do klastrowania dla wybranych próbek i parametrów\n",
    "data_for_clustering = sample_data[sample_data['Sample_Section'].isin(wybrane_probki)][['Sample_Section', 'Ra', 'Rz']]\n",
    "data_for_clustering_pivot = data_for_clustering.pivot(columns='Sample_Section', values=['Ra', 'Rz']).fillna(0)\n"
   ]
  },
  {
   "cell_type": "code",
   "execution_count": 29,
   "metadata": {},
   "outputs": [
    {
     "name": "stderr",
     "output_type": "stream",
     "text": [
      "c:\\ProgramData\\anaconda3\\Lib\\site-packages\\sklearn\\cluster\\_kmeans.py:1412: FutureWarning: The default value of `n_init` will change from 10 to 'auto' in 1.4. Set the value of `n_init` explicitly to suppress the warning\n",
      "  super()._check_params_vs_input(X, default_n_init=10)\n",
      "c:\\ProgramData\\anaconda3\\Lib\\site-packages\\sklearn\\cluster\\_kmeans.py:1436: UserWarning: KMeans is known to have a memory leak on Windows with MKL, when there are less chunks than available threads. You can avoid it by setting the environment variable OMP_NUM_THREADS=1.\n",
      "  warnings.warn(\n"
     ]
    }
   ],
   "source": [
    "# Liczba klastrów\n",
    "n_clusters = 4\n",
    "\n",
    "# Trenowanie modelu KMeans\n",
    "kmeans = KMeans(n_clusters=n_clusters, random_state=0)\n",
    "clusters = kmeans.fit_predict(data_for_clustering_pivot)\n",
    "\n",
    "# Dodanie informacji o przynależności do klastra do danych\n",
    "data_for_clustering_pivot['Cluster'] = clusters"
   ]
  },
  {
   "cell_type": "code",
   "execution_count": 33,
   "metadata": {},
   "outputs": [
    {
     "data": {
      "image/png": "[encoded data removed]",
      "text/plain": [
       "<Figure size 1000x600 with 1 Axes>"
      ]
     },
     "metadata": {},
     "output_type": "display_data"
    }
   ],
   "source": [
    "# Przygotowanie danych do wizualizacji\n",
    "# Może być konieczne dostosowanie tego w zależności od struktury data_for_clustering\n",
    "plot_data = data_for_clustering.copy()\n",
    "plot_data['Cluster'] = clusters\n",
    "\n",
    "plt.figure(figsize=(10, 6))\n",
    "\n",
    "# Wizualizacja klastrów\n",
    "sns.scatterplot(x='Ra', y='Rz', data=plot_data, hue='Cluster', palette='viridis', s=100)\n",
    "\n",
    "# Wizualizacja centrów klastrów\n",
    "centers = kmeans.cluster_centers_\n",
    "plt.scatter(centers[:, 0], centers[:, 1], c='red', s=200, alpha=0.5)\n",
    "\n",
    "plt.title('Wyniki Klastrowania KMeans')\n",
    "plt.xlabel('Ra')\n",
    "plt.ylabel('Rz')\n",
    "plt.legend(title='Klaster')\n",
    "plt.show()"
   ]
  },
  {
   "cell_type": "code",
   "execution_count": 35,
   "metadata": {},
   "outputs": [],
   "source": [
    "from sklearn.decomposition import PCA \n",
    "\n",
    "# Dodanie dodatkowych parametrów do analizy\n",
    "data_for_clustering = sample_data[sample_data['Sample_Section'].isin(wybrane_probki)][['Sample_Section', 'Ra', 'Rz', 'Rt', 'Rq', 'Rmax']]\n",
    "data_for_clustering_pivot = data_for_clustering.pivot(columns='Sample_Section').fillna(0)\n",
    "\n",
    "# Liczba klastrów\n",
    "n_clusters = 4"
   ]
  },
  {
   "cell_type": "code",
   "execution_count": 36,
   "metadata": {},
   "outputs": [
    {
     "name": "stderr",
     "output_type": "stream",
     "text": [
      "c:\\ProgramData\\anaconda3\\Lib\\site-packages\\sklearn\\cluster\\_kmeans.py:1412: FutureWarning: The default value of `n_init` will change from 10 to 'auto' in 1.4. Set the value of `n_init` explicitly to suppress the warning\n",
      "  super()._check_params_vs_input(X, default_n_init=10)\n",
      "c:\\ProgramData\\anaconda3\\Lib\\site-packages\\sklearn\\cluster\\_kmeans.py:1436: UserWarning: KMeans is known to have a memory leak on Windows with MKL, when there are less chunks than available threads. You can avoid it by setting the environment variable OMP_NUM_THREADS=1.\n",
      "  warnings.warn(\n"
     ]
    }
   ],
   "source": [
    "# Trenowanie modelu KMeans\n",
    "kmeans = KMeans(n_clusters=n_clusters, random_state=0)\n",
    "clusters = kmeans.fit_predict(data_for_clustering_pivot)"
   ]
  },
  {
   "cell_type": "code",
   "execution_count": 37,
   "metadata": {},
   "outputs": [],
   "source": [
    "# Redukcja wymiarowości do 2D dla wizualizacji\n",
    "pca = PCA(n_components=2)\n",
    "pca_result = pca.fit_transform(data_for_clustering_pivot)\n",
    "data_for_clustering['PCA1'] = pca_result[:, 0]\n",
    "data_for_clustering['PCA2'] = pca_result[:, 1]\n",
    "data_for_clustering['Cluster'] = clusters\n"
   ]
  },
  {
   "cell_type": "code",
   "execution_count": 38,
   "metadata": {},
   "outputs": [
    {
     "data": {
      "image/png": "[encoded data removed]",
      "text/plain": [
       "<Figure size 1000x600 with 1 Axes>"
      ]
     },
     "metadata": {},
     "output_type": "display_data"
    }
   ],
   "source": [
    "# Tworzenie wykresu PCA\n",
    "plt.figure(figsize=(10, 6))\n",
    "sns.scatterplot(x='PCA1', y='PCA2', data=data_for_clustering, hue='Cluster', palette='viridis', s=100)\n",
    "plt.title('Wyniki Klastrowania KMeans z PCA')\n",
    "plt.xlabel('PCA 1')\n",
    "plt.ylabel('PCA 2')\n",
    "plt.legend(title='Klaster')\n",
    "plt.show()"
   ]
  },
  {
   "cell_type": "code",
   "execution_count": 39,
   "metadata": {},
   "outputs": [
    {
     "data": {
      "text/plain": [
       "['208250_1', '51824_2', '79028_1', '88911_2']"
      ]
     },
     "execution_count": 39,
     "metadata": {},
     "output_type": "execute_result"
    }
   ],
   "source": [
    "wybrane_probki"
   ]
  },
  {
   "cell_type": "code",
   "execution_count": 40,
   "metadata": {},
   "outputs": [
    {
     "data": {
      "text/html": [
       "<div>\n",
       "<style scoped>\n",
       "    .dataframe tbody tr th:only-of-type {\n",
       "        vertical-align: middle;\n",
       "    }\n",
       "\n",
       "    .dataframe tbody tr th {\n",
       "        vertical-align: top;\n",
       "    }\n",
       "\n",
       "    .dataframe thead th {\n",
       "        text-align: right;\n",
       "    }\n",
       "</style>\n",
       "<table border=\"1\" class=\"dataframe\">\n",
       "  <thead>\n",
       "    <tr style=\"text-align: right;\">\n",
       "      <th></th>\n",
       "      <th>Ra</th>\n",
       "      <th>Rq</th>\n",
       "      <th>Rt</th>\n",
       "      <th>Rz</th>\n",
       "      <th>Rmax</th>\n",
       "      <th>Rp</th>\n",
       "      <th>Rv</th>\n",
       "      <th>Rc</th>\n",
       "      <th>Rsm</th>\n",
       "      <th>Rsk</th>\n",
       "      <th>...</th>\n",
       "      <th>sigma Rsk</th>\n",
       "      <th>sigma Rku</th>\n",
       "      <th>sigma Rdq</th>\n",
       "      <th>Rk</th>\n",
       "      <th>Rpk</th>\n",
       "      <th>Rvk</th>\n",
       "      <th>Rmr1</th>\n",
       "      <th>Rmr2</th>\n",
       "      <th>File_Index</th>\n",
       "      <th>Sample_Section</th>\n",
       "    </tr>\n",
       "  </thead>\n",
       "  <tbody>\n",
       "    <tr>\n",
       "      <th>0</th>\n",
       "      <td>0.169</td>\n",
       "      <td>0.220</td>\n",
       "      <td>1.24</td>\n",
       "      <td>0.861</td>\n",
       "      <td>1.12</td>\n",
       "      <td>0.532</td>\n",
       "      <td>0.706</td>\n",
       "      <td>0.705</td>\n",
       "      <td>15.1</td>\n",
       "      <td>-0.3550</td>\n",
       "      <td>...</td>\n",
       "      <td>0.1470</td>\n",
       "      <td>0.1890</td>\n",
       "      <td>0.00788</td>\n",
       "      <td>0.453</td>\n",
       "      <td>0.162</td>\n",
       "      <td>0.314</td>\n",
       "      <td>15.00</td>\n",
       "      <td>84.5</td>\n",
       "      <td>51824_1_1.pdf_1</td>\n",
       "      <td>51824_1</td>\n",
       "    </tr>\n",
       "    <tr>\n",
       "      <th>1</th>\n",
       "      <td>0.208</td>\n",
       "      <td>0.273</td>\n",
       "      <td>1.62</td>\n",
       "      <td>1.150</td>\n",
       "      <td>1.62</td>\n",
       "      <td>0.741</td>\n",
       "      <td>0.883</td>\n",
       "      <td>0.882</td>\n",
       "      <td>16.5</td>\n",
       "      <td>-0.2430</td>\n",
       "      <td>...</td>\n",
       "      <td>0.0397</td>\n",
       "      <td>0.0497</td>\n",
       "      <td>0.00550</td>\n",
       "      <td>0.586</td>\n",
       "      <td>0.265</td>\n",
       "      <td>0.423</td>\n",
       "      <td>9.39</td>\n",
       "      <td>86.2</td>\n",
       "      <td>51824_1_1.pdf_2</td>\n",
       "      <td>51824_1</td>\n",
       "    </tr>\n",
       "    <tr>\n",
       "      <th>2</th>\n",
       "      <td>0.185</td>\n",
       "      <td>0.243</td>\n",
       "      <td>1.27</td>\n",
       "      <td>0.928</td>\n",
       "      <td>1.26</td>\n",
       "      <td>0.623</td>\n",
       "      <td>0.652</td>\n",
       "      <td>0.671</td>\n",
       "      <td>12.3</td>\n",
       "      <td>-0.0534</td>\n",
       "      <td>...</td>\n",
       "      <td>0.0254</td>\n",
       "      <td>0.0734</td>\n",
       "      <td>0.00168</td>\n",
       "      <td>0.495</td>\n",
       "      <td>0.367</td>\n",
       "      <td>0.335</td>\n",
       "      <td>10.10</td>\n",
       "      <td>85.0</td>\n",
       "      <td>51824_1_1.pdf_3</td>\n",
       "      <td>51824_1</td>\n",
       "    </tr>\n",
       "    <tr>\n",
       "      <th>3</th>\n",
       "      <td>0.252</td>\n",
       "      <td>0.319</td>\n",
       "      <td>1.63</td>\n",
       "      <td>1.260</td>\n",
       "      <td>1.63</td>\n",
       "      <td>0.844</td>\n",
       "      <td>0.791</td>\n",
       "      <td>0.935</td>\n",
       "      <td>13.1</td>\n",
       "      <td>0.1330</td>\n",
       "      <td>...</td>\n",
       "      <td>0.0232</td>\n",
       "      <td>0.2190</td>\n",
       "      <td>0.00386</td>\n",
       "      <td>0.773</td>\n",
       "      <td>0.324</td>\n",
       "      <td>0.294</td>\n",
       "      <td>13.40</td>\n",
       "      <td>90.1</td>\n",
       "      <td>51824_1_1.pdf_4</td>\n",
       "      <td>51824_1</td>\n",
       "    </tr>\n",
       "    <tr>\n",
       "      <th>4</th>\n",
       "      <td>0.176</td>\n",
       "      <td>0.237</td>\n",
       "      <td>1.56</td>\n",
       "      <td>0.973</td>\n",
       "      <td>1.53</td>\n",
       "      <td>0.591</td>\n",
       "      <td>0.965</td>\n",
       "      <td>0.736</td>\n",
       "      <td>12.9</td>\n",
       "      <td>-0.2160</td>\n",
       "      <td>...</td>\n",
       "      <td>0.0871</td>\n",
       "      <td>0.2050</td>\n",
       "      <td>0.00317</td>\n",
       "      <td>0.473</td>\n",
       "      <td>0.311</td>\n",
       "      <td>0.279</td>\n",
       "      <td>13.90</td>\n",
       "      <td>86.1</td>\n",
       "      <td>51824_1_1.pdf_5</td>\n",
       "      <td>51824_1</td>\n",
       "    </tr>\n",
       "    <tr>\n",
       "      <th>...</th>\n",
       "      <td>...</td>\n",
       "      <td>...</td>\n",
       "      <td>...</td>\n",
       "      <td>...</td>\n",
       "      <td>...</td>\n",
       "      <td>...</td>\n",
       "      <td>...</td>\n",
       "      <td>...</td>\n",
       "      <td>...</td>\n",
       "      <td>...</td>\n",
       "      <td>...</td>\n",
       "      <td>...</td>\n",
       "      <td>...</td>\n",
       "      <td>...</td>\n",
       "      <td>...</td>\n",
       "      <td>...</td>\n",
       "      <td>...</td>\n",
       "      <td>...</td>\n",
       "      <td>...</td>\n",
       "      <td>...</td>\n",
       "      <td>...</td>\n",
       "    </tr>\n",
       "    <tr>\n",
       "      <th>175</th>\n",
       "      <td>0.237</td>\n",
       "      <td>0.304</td>\n",
       "      <td>1.74</td>\n",
       "      <td>1.300</td>\n",
       "      <td>1.55</td>\n",
       "      <td>0.807</td>\n",
       "      <td>0.933</td>\n",
       "      <td>0.971</td>\n",
       "      <td>14.1</td>\n",
       "      <td>-0.3310</td>\n",
       "      <td>...</td>\n",
       "      <td>0.0973</td>\n",
       "      <td>0.0851</td>\n",
       "      <td>0.00507</td>\n",
       "      <td>0.644</td>\n",
       "      <td>0.297</td>\n",
       "      <td>0.372</td>\n",
       "      <td>10.80</td>\n",
       "      <td>82.8</td>\n",
       "      <td>208250_3_3.pdf_1</td>\n",
       "      <td>208250_3</td>\n",
       "    </tr>\n",
       "    <tr>\n",
       "      <th>176</th>\n",
       "      <td>0.214</td>\n",
       "      <td>0.270</td>\n",
       "      <td>1.68</td>\n",
       "      <td>1.090</td>\n",
       "      <td>1.37</td>\n",
       "      <td>0.963</td>\n",
       "      <td>0.717</td>\n",
       "      <td>0.871</td>\n",
       "      <td>13.8</td>\n",
       "      <td>0.4620</td>\n",
       "      <td>...</td>\n",
       "      <td>0.0151</td>\n",
       "      <td>0.0168</td>\n",
       "      <td>0.00281</td>\n",
       "      <td>0.626</td>\n",
       "      <td>0.341</td>\n",
       "      <td>0.155</td>\n",
       "      <td>14.60</td>\n",
       "      <td>90.0</td>\n",
       "      <td>208250_3_3.pdf_2</td>\n",
       "      <td>208250_3</td>\n",
       "    </tr>\n",
       "    <tr>\n",
       "      <th>177</th>\n",
       "      <td>0.161</td>\n",
       "      <td>0.216</td>\n",
       "      <td>1.32</td>\n",
       "      <td>0.944</td>\n",
       "      <td>1.32</td>\n",
       "      <td>0.485</td>\n",
       "      <td>0.837</td>\n",
       "      <td>0.750</td>\n",
       "      <td>17.5</td>\n",
       "      <td>-0.9270</td>\n",
       "      <td>...</td>\n",
       "      <td>0.0550</td>\n",
       "      <td>0.2400</td>\n",
       "      <td>0.00233</td>\n",
       "      <td>0.444</td>\n",
       "      <td>0.184</td>\n",
       "      <td>0.393</td>\n",
       "      <td>7.99</td>\n",
       "      <td>86.1</td>\n",
       "      <td>208250_3_3.pdf_3</td>\n",
       "      <td>208250_3</td>\n",
       "    </tr>\n",
       "    <tr>\n",
       "      <th>178</th>\n",
       "      <td>0.169</td>\n",
       "      <td>0.218</td>\n",
       "      <td>1.37</td>\n",
       "      <td>0.869</td>\n",
       "      <td>1.17</td>\n",
       "      <td>0.762</td>\n",
       "      <td>0.604</td>\n",
       "      <td>0.659</td>\n",
       "      <td>17.2</td>\n",
       "      <td>0.3280</td>\n",
       "      <td>...</td>\n",
       "      <td>0.1710</td>\n",
       "      <td>0.5000</td>\n",
       "      <td>0.00993</td>\n",
       "      <td>0.515</td>\n",
       "      <td>0.347</td>\n",
       "      <td>0.174</td>\n",
       "      <td>10.40</td>\n",
       "      <td>89.8</td>\n",
       "      <td>208250_3_3.pdf_4</td>\n",
       "      <td>208250_3</td>\n",
       "    </tr>\n",
       "    <tr>\n",
       "      <th>179</th>\n",
       "      <td>0.149</td>\n",
       "      <td>0.205</td>\n",
       "      <td>2.12</td>\n",
       "      <td>0.937</td>\n",
       "      <td>1.45</td>\n",
       "      <td>1.000</td>\n",
       "      <td>1.110</td>\n",
       "      <td>0.810</td>\n",
       "      <td>21.9</td>\n",
       "      <td>-0.5170</td>\n",
       "      <td>...</td>\n",
       "      <td>1.0000</td>\n",
       "      <td>4.0900</td>\n",
       "      <td>0.03220</td>\n",
       "      <td>0.430</td>\n",
       "      <td>0.236</td>\n",
       "      <td>0.273</td>\n",
       "      <td>12.70</td>\n",
       "      <td>89.5</td>\n",
       "      <td>208250_3_3.pdf_5</td>\n",
       "      <td>208250_3</td>\n",
       "    </tr>\n",
       "  </tbody>\n",
       "</table>\n",
       "<p>179 rows × 46 columns</p>\n",
       "</div>"
      ],
      "text/plain": [
       "        Ra     Rq    Rt     Rz  Rmax     Rp     Rv     Rc   Rsm     Rsk  ...  \\\n",
       "0    0.169  0.220  1.24  0.861  1.12  0.532  0.706  0.705  15.1 -0.3550  ...   \n",
       "1    0.208  0.273  1.62  1.150  1.62  0.741  0.883  0.882  16.5 -0.2430  ...   \n",
       "2    0.185  0.243  1.27  0.928  1.26  0.623  0.652  0.671  12.3 -0.0534  ...   \n",
       "3    0.252  0.319  1.63  1.260  1.63  0.844  0.791  0.935  13.1  0.1330  ...   \n",
       "4    0.176  0.237  1.56  0.973  1.53  0.591  0.965  0.736  12.9 -0.2160  ...   \n",
       "..     ...    ...   ...    ...   ...    ...    ...    ...   ...     ...  ...   \n",
       "175  0.237  0.304  1.74  1.300  1.55  0.807  0.933  0.971  14.1 -0.3310  ...   \n",
       "176  0.214  0.270  1.68  1.090  1.37  0.963  0.717  0.871  13.8  0.4620  ...   \n",
       "177  0.161  0.216  1.32  0.944  1.32  0.485  0.837  0.750  17.5 -0.9270  ...   \n",
       "178  0.169  0.218  1.37  0.869  1.17  0.762  0.604  0.659  17.2  0.3280  ...   \n",
       "179  0.149  0.205  2.12  0.937  1.45  1.000  1.110  0.810  21.9 -0.5170  ...   \n",
       "\n",
       "     sigma Rsk  sigma Rku  sigma Rdq     Rk    Rpk    Rvk   Rmr1  Rmr2  \\\n",
       "0       0.1470     0.1890    0.00788  0.453  0.162  0.314  15.00  84.5   \n",
       "1       0.0397     0.0497    0.00550  0.586  0.265  0.423   9.39  86.2   \n",
       "2       0.0254     0.0734    0.00168  0.495  0.367  0.335  10.10  85.0   \n",
       "3       0.0232     0.2190    0.00386  0.773  0.324  0.294  13.40  90.1   \n",
       "4       0.0871     0.2050    0.00317  0.473  0.311  0.279  13.90  86.1   \n",
       "..         ...        ...        ...    ...    ...    ...    ...   ...   \n",
       "175     0.0973     0.0851    0.00507  0.644  0.297  0.372  10.80  82.8   \n",
       "176     0.0151     0.0168    0.00281  0.626  0.341  0.155  14.60  90.0   \n",
       "177     0.0550     0.2400    0.00233  0.444  0.184  0.393   7.99  86.1   \n",
       "178     0.1710     0.5000    0.00993  0.515  0.347  0.174  10.40  89.8   \n",
       "179     1.0000     4.0900    0.03220  0.430  0.236  0.273  12.70  89.5   \n",
       "\n",
       "           File_Index  Sample_Section  \n",
       "0     51824_1_1.pdf_1         51824_1  \n",
       "1     51824_1_1.pdf_2         51824_1  \n",
       "2     51824_1_1.pdf_3         51824_1  \n",
       "3     51824_1_1.pdf_4         51824_1  \n",
       "4     51824_1_1.pdf_5         51824_1  \n",
       "..                ...             ...  \n",
       "175  208250_3_3.pdf_1        208250_3  \n",
       "176  208250_3_3.pdf_2        208250_3  \n",
       "177  208250_3_3.pdf_3        208250_3  \n",
       "178  208250_3_3.pdf_4        208250_3  \n",
       "179  208250_3_3.pdf_5        208250_3  \n",
       "\n",
       "[179 rows x 46 columns]"
      ]
     },
     "execution_count": 40,
     "metadata": {},
     "output_type": "execute_result"
    }
   ],
   "source": [
    "sample_data"
   ]
  },
  {
   "cell_type": "code",
   "execution_count": 42,
   "metadata": {},
   "outputs": [
    {
     "data": {
      "image/png": "[encoded data removed]",
      "text/plain": [
       "<Figure size 1000x600 with 1 Axes>"
      ]
     },
     "metadata": {},
     "output_type": "display_data"
    }
   ],
   "source": [
    "plt.figure(figsize=(10, 6))\n",
    "\n",
    "# Dodanie punktów do wykresu\n",
    "for idx in data_for_clustering.index:\n",
    "    plt.text(data_for_clustering.loc[idx, 'PCA1'], \n",
    "             data_for_clustering.loc[idx, 'PCA2'], \n",
    "             data_for_clustering.loc[idx, 'Sample_Section'], \n",
    "             fontsize=9)\n",
    "\n",
    "# Rysowanie punktów z klastrowaniem\n",
    "sns.scatterplot(x='PCA1', y='PCA2', data=data_for_clustering, hue='Cluster', palette='viridis', s=100)\n",
    "\n",
    "plt.title('Wyniki Klastrowania KMeans z PCA')\n",
    "plt.xlabel('PCA 1')\n",
    "plt.ylabel('PCA 2')\n",
    "plt.legend(title='Klaster')\n",
    "plt.show()\n"
   ]
  },
  {
   "cell_type": "code",
   "execution_count": 43,
   "metadata": {},
   "outputs": [
    {
     "name": "stderr",
     "output_type": "stream",
     "text": [
      "c:\\ProgramData\\anaconda3\\Lib\\site-packages\\sklearn\\cluster\\_kmeans.py:1412: FutureWarning: The default value of `n_init` will change from 10 to 'auto' in 1.4. Set the value of `n_init` explicitly to suppress the warning\n",
      "  super()._check_params_vs_input(X, default_n_init=10)\n",
      "c:\\ProgramData\\anaconda3\\Lib\\site-packages\\sklearn\\cluster\\_kmeans.py:1436: UserWarning: KMeans is known to have a memory leak on Windows with MKL, when there are less chunks than available threads. You can avoid it by setting the environment variable OMP_NUM_THREADS=1.\n",
      "  warnings.warn(\n"
     ]
    },
    {
     "data": {
      "image/png": "[encoded data removed]",
      "text/plain": [
       "<Figure size 1000x800 with 1 Axes>"
      ]
     },
     "metadata": {},
     "output_type": "display_data"
    }
   ],
   "source": [
    "from mpl_toolkits.mplot3d import Axes3D\n",
    "# Filtracja danych do klastrowania dla wybranych próbek i parametrów\n",
    "data_for_clustering = sample_data[sample_data['Sample_Section'].isin(wybrane_probki)][['Sample_Section', 'Ra', 'Rz', 'Rt']]\n",
    "\n",
    "# Liczba klastrów\n",
    "n_clusters = 4\n",
    "\n",
    "# Trenowanie modelu KMeans\n",
    "kmeans = KMeans(n_clusters=n_clusters, random_state=0)\n",
    "clusters = kmeans.fit_predict(data_for_clustering[['Ra', 'Rz', 'Rt']])\n",
    "\n",
    "# Dodanie informacji o przynależności do klastra do danych\n",
    "data_for_clustering['Cluster'] = clusters\n",
    "\n",
    "# Przygotowanie danych do wizualizacji\n",
    "plot_data = data_for_clustering.copy()\n",
    "\n",
    "# Tworzenie wykresu 3D\n",
    "fig = plt.figure(figsize=(10, 8))\n",
    "ax = fig.add_subplot(111, projection='3d')\n",
    "\n",
    "# Mapowanie numerów klastrów do etykiet próbek\n",
    "cluster_to_label_mapping = {\n",
    "    0: 'Próbka 1',\n",
    "    1: 'Próbka 2',\n",
    "    2: 'Próbka 3',\n",
    "    3: 'Próbka 4'\n",
    "}\n",
    "plot_data['Cluster_Label'] = plot_data['Cluster'].map(cluster_to_label_mapping)\n",
    "\n",
    "# Wizualizacja klastrów w 3D\n",
    "scatter = ax.scatter(plot_data['Ra'], plot_data['Rz'], plot_data['Rt'], c=plot_data['Cluster'], cmap='viridis', s=100, label=plot_data['Cluster_Label'])\n",
    "\n",
    "# Wizualizacja centrów klastrów\n",
    "centers = kmeans.cluster_centers_\n",
    "ax.scatter(centers[:, 0], centers[:, 1], centers[:, 2], c='red', s=200, alpha=0.5)\n",
    "\n",
    "# Legenda z etykietami próbek\n",
    "legend1 = ax.legend(*scatter.legend_elements(), title=\"Klaster\")\n",
    "ax.add_artist(legend1)\n",
    "# Dodajemy etykiety dla legendy klastrów\n",
    "ax.legend(handles=scatter.legend_elements()[0], labels=list(cluster_to_label_mapping.values()), title=\"Klaster\")\n",
    "\n",
    "ax.set_title('Wyniki Klastrowania KMeans 3D')\n",
    "ax.set_xlabel('Ra')\n",
    "ax.set_ylabel('Rz')\n",
    "ax.set_zlabel('Rt')\n",
    "plt.show()"
   ]
  },
  {
   "cell_type": "code",
   "execution_count": 44,
   "metadata": {},
   "outputs": [
    {
     "data": {
      "application/vnd.plotly.v1+json": {
       "config": {
        "plotlyServerURL": "https://plot.ly"
       },
       "data": [
        {
         "hovertemplate": "Klaster=Próbka 1<br>Ra=%{x}<br>Rz=%{y}<br>Rt=%{z}<extra></extra>",
         "legendgroup": "Próbka 1",
         "marker": {
          "color": "#636efa",
          "size": 5,
          "symbol": "circle"
         },
         "mode": "markers",
         "name": "Próbka 1",
         "scene": "scene",
         "showlegend": true,
         "type": "scatter3d",
         "x": [
          0.283,
          0.282,
          0.254,
          0.285,
          0.29,
          0.306,
          0.291,
          0.293,
          0.237,
          0.279,
          0.221,
          0.252,
          0.241,
          0.264,
          0.266,
          0.276,
          0.27,
          0.259,
          0.265,
          0.321,
          0.238,
          0.205,
          0.25,
          0.257
         ],
         "y": [
          1.29,
          1.34,
          1.32,
          1.43,
          1.41,
          1.51,
          1.39,
          1.57,
          1.14,
          1.35,
          1.11,
          1.18,
          1.28,
          1.32,
          1.25,
          1.36,
          1.23,
          1.17,
          1.27,
          1.41,
          1.27,
          1.07,
          1.33,
          1.08
         ],
         "z": [
          1.91,
          1.71,
          1.76,
          1.92,
          1.77,
          1.99,
          1.89,
          2.03,
          1.76,
          1.84,
          2.05,
          1.79,
          1.56,
          1.84,
          2.09,
          1.87,
          1.7,
          1.76,
          1.97,
          1.98,
          1.86,
          1.85,
          2.1,
          1.98
         ]
        },
        {
         "hovertemplate": "Klaster=Próbka 2<br>Ra=%{x}<br>Rz=%{y}<br>Rt=%{z}<extra></extra>",
         "legendgroup": "Próbka 2",
         "marker": {
          "color": "#EF553B",
          "size": 5,
          "symbol": "circle"
         },
         "mode": "markers",
         "name": "Próbka 2",
         "scene": "scene",
         "showlegend": true,
         "type": "scatter3d",
         "x": [
          0.171,
          0.173,
          0.195,
          0.147,
          0.136,
          0.146,
          0.131,
          0.17,
          0.175,
          0.15,
          0.135,
          0.12,
          0.129
         ],
         "y": [
          0.853,
          0.877,
          0.797,
          0.678,
          0.693,
          0.706,
          0.642,
          0.814,
          0.761,
          0.767,
          0.605,
          0.574,
          0.607
         ],
         "z": [
          1.02,
          1.13,
          1.03,
          0.923,
          1.11,
          1.21,
          0.96,
          1.16,
          1.05,
          0.972,
          0.925,
          0.824,
          0.78
         ]
        },
        {
         "hovertemplate": "Klaster=Próbka 4<br>Ra=%{x}<br>Rz=%{y}<br>Rt=%{z}<extra></extra>",
         "legendgroup": "Próbka 4",
         "marker": {
          "color": "#00cc96",
          "size": 5,
          "symbol": "circle"
         },
         "mode": "markers",
         "name": "Próbka 4",
         "scene": "scene",
         "showlegend": true,
         "type": "scatter3d",
         "x": [
          0.178,
          0.163,
          0.181,
          0.176,
          0.212,
          0.216,
          0.181,
          0.177,
          0.157,
          0.183,
          0.216
         ],
         "y": [
          0.984,
          0.826,
          0.972,
          0.877,
          1.1,
          1.17,
          0.947,
          0.973,
          0.809,
          0.777,
          0.835
         ],
         "z": [
          1.44,
          1.32,
          1.23,
          1.3,
          1.4,
          1.56,
          1.39,
          1.51,
          1.64,
          1.26,
          1.24
         ]
        },
        {
         "hovertemplate": "Klaster=Próbka 3<br>Ra=%{x}<br>Rz=%{y}<br>Rt=%{z}<extra></extra>",
         "legendgroup": "Próbka 3",
         "marker": {
          "color": "#ab63fa",
          "size": 5,
          "symbol": "circle"
         },
         "mode": "markers",
         "name": "Próbka 3",
         "scene": "scene",
         "showlegend": true,
         "type": "scatter3d",
         "x": [
          0.302,
          0.331,
          0.294,
          0.241,
          0.301,
          0.282,
          0.233,
          0.255,
          0.252,
          0.305,
          0.242,
          0.225
         ],
         "y": [
          1.52,
          1.64,
          1.53,
          1.36,
          1.53,
          1.47,
          1.3,
          1.49,
          1.26,
          1.63,
          1.26,
          1.36
         ],
         "z": [
          2.19,
          2.26,
          2.44,
          2.17,
          2.78,
          2.39,
          2.49,
          2.54,
          2.26,
          2.21,
          2.49,
          2.24
         ]
        }
       ],
       "layout": {
        "legend": {
         "title": {
          "text": "Klaster"
         },
         "tracegroupgap": 0
        },
        "scene": {
         "domain": {
          "x": [
           0,
           1
          ],
          "y": [
           0,
           1
          ]
         },
         "xaxis": {
          "title": {
           "text": "Ra"
          }
         },
         "yaxis": {
          "title": {
           "text": "Rz"
          }
         },
         "zaxis": {
          "title": {
           "text": "Rt"
          }
         }
        },
        "template": {
         "data": {
          "bar": [
           {
            "error_x": {
             "color": "#2a3f5f"
            },
            "error_y": {
             "color": "#2a3f5f"
            },
            "marker": {
             "line": {
              "color": "#E5ECF6",
              "width": 0.5
             },
             "pattern": {
              "fillmode": "overlay",
              "size": 10,
              "solidity": 0.2
             }
            },
            "type": "bar"
           }
          ],
          "barpolar": [
           {
            "marker": {
             "line": {
              "color": "#E5ECF6",
              "width": 0.5
             },
             "pattern": {
              "fillmode": "overlay",
              "size": 10,
              "solidity": 0.2
             }
            },
            "type": "barpolar"
           }
          ],
          "carpet": [
           {
            "aaxis": {
             "endlinecolor": "#2a3f5f",
             "gridcolor": "white",
             "linecolor": "white",
             "minorgridcolor": "white",
             "startlinecolor": "#2a3f5f"
            },
            "baxis": {
             "endlinecolor": "#2a3f5f",
             "gridcolor": "white",
             "linecolor": "white",
             "minorgridcolor": "white",
             "startlinecolor": "#2a3f5f"
            },
            "type": "carpet"
           }
          ],
          "choropleth": [
           {
            "colorbar": {
             "outlinewidth": 0,
             "ticks": ""
            },
            "type": "choropleth"
           }
          ],
          "contour": [
           {
            "colorbar": {
             "outlinewidth": 0,
             "ticks": ""
            },
            "colorscale": [
             [
              0,
              "#0d0887"
             ],
             [
              0.1111111111111111,
              "#46039f"
             ],
             [
              0.2222222222222222,
              "#7201a8"
             ],
             [
              0.3333333333333333,
              "#9c179e"
             ],
             [
              0.4444444444444444,
              "#bd3786"
             ],
             [
              0.5555555555555556,
              "#d8576b"
             ],
             [
              0.6666666666666666,
              "#ed7953"
             ],
             [
              0.7777777777777778,
              "#fb9f3a"
             ],
             [
              0.8888888888888888,
              "#fdca26"
             ],
             [
              1,
              "#f0f921"
             ]
            ],
            "type": "contour"
           }
          ],
          "contourcarpet": [
           {
            "colorbar": {
             "outlinewidth": 0,
             "ticks": ""
            },
            "type": "contourcarpet"
           }
          ],
          "heatmap": [
           {
            "colorbar": {
             "outlinewidth": 0,
             "ticks": ""
            },
            "colorscale": [
             [
              0,
              "#0d0887"
             ],
             [
              0.1111111111111111,
              "#46039f"
             ],
             [
              0.2222222222222222,
              "#7201a8"
             ],
             [
              0.3333333333333333,
              "#9c179e"
             ],
             [
              0.4444444444444444,
              "#bd3786"
             ],
             [
              0.5555555555555556,
              "#d8576b"
             ],
             [
              0.6666666666666666,
              "#ed7953"
             ],
             [
              0.7777777777777778,
              "#fb9f3a"
             ],
             [
              0.8888888888888888,
              "#fdca26"
             ],
             [
              1,
              "#f0f921"
             ]
            ],
            "type": "heatmap"
           }
          ],
          "heatmapgl": [
           {
            "colorbar": {
             "outlinewidth": 0,
             "ticks": ""
            },
            "colorscale": [
             [
              0,
              "#0d0887"
             ],
             [
              0.1111111111111111,
              "#46039f"
             ],
             [
              0.2222222222222222,
              "#7201a8"
             ],
             [
              0.3333333333333333,
              "#9c179e"
             ],
             [
              0.4444444444444444,
              "#bd3786"
             ],
             [
              0.5555555555555556,
              "#d8576b"
             ],
             [
              0.6666666666666666,
              "#ed7953"
             ],
             [
              0.7777777777777778,
              "#fb9f3a"
             ],
             [
              0.8888888888888888,
              "#fdca26"
             ],
             [
              1,
              "#f0f921"
             ]
            ],
            "type": "heatmapgl"
           }
          ],
          "histogram": [
           {
            "marker": {
             "pattern": {
              "fillmode": "overlay",
              "size": 10,
              "solidity": 0.2
             }
            },
            "type": "histogram"
           }
          ],
          "histogram2d": [
           {
            "colorbar": {
             "outlinewidth": 0,
             "ticks": ""
            },
            "colorscale": [
             [
              0,
              "#0d0887"
             ],
             [
              0.1111111111111111,
              "#46039f"
             ],
             [
              0.2222222222222222,
              "#7201a8"
             ],
             [
              0.3333333333333333,
              "#9c179e"
             ],
             [
              0.4444444444444444,
              "#bd3786"
             ],
             [
              0.5555555555555556,
              "#d8576b"
             ],
             [
              0.6666666666666666,
              "#ed7953"
             ],
             [
              0.7777777777777778,
              "#fb9f3a"
             ],
             [
              0.8888888888888888,
              "#fdca26"
             ],
             [
              1,
              "#f0f921"
             ]
            ],
            "type": "histogram2d"
           }
          ],
          "histogram2dcontour": [
           {
            "colorbar": {
             "outlinewidth": 0,
             "ticks": ""
            },
            "colorscale": [
             [
              0,
              "#0d0887"
             ],
             [
              0.1111111111111111,
              "#46039f"
             ],
             [
              0.2222222222222222,
              "#7201a8"
             ],
             [
              0.3333333333333333,
              "#9c179e"
             ],
             [
              0.4444444444444444,
              "#bd3786"
             ],
             [
              0.5555555555555556,
              "#d8576b"
             ],
             [
              0.6666666666666666,
              "#ed7953"
             ],
             [
              0.7777777777777778,
              "#fb9f3a"
             ],
             [
              0.8888888888888888,
              "#fdca26"
             ],
             [
              1,
              "#f0f921"
             ]
            ],
            "type": "histogram2dcontour"
           }
          ],
          "mesh3d": [
           {
            "colorbar": {
             "outlinewidth": 0,
             "ticks": ""
            },
            "type": "mesh3d"
           }
          ],
          "parcoords": [
           {
            "line": {
             "colorbar": {
              "outlinewidth": 0,
              "ticks": ""
             }
            },
            "type": "parcoords"
           }
          ],
          "pie": [
           {
            "automargin": true,
            "type": "pie"
           }
          ],
          "scatter": [
           {
            "fillpattern": {
             "fillmode": "overlay",
             "size": 10,
             "solidity": 0.2
            },
            "type": "scatter"
           }
          ],
          "scatter3d": [
           {
            "line": {
             "colorbar": {
              "outlinewidth": 0,
              "ticks": ""
             }
            },
            "marker": {
             "colorbar": {
              "outlinewidth": 0,
              "ticks": ""
             }
            },
            "type": "scatter3d"
           }
          ],
          "scattercarpet": [
           {
            "marker": {
             "colorbar": {
              "outlinewidth": 0,
              "ticks": ""
             }
            },
            "type": "scattercarpet"
           }
          ],
          "scattergeo": [
           {
            "marker": {
             "colorbar": {
              "outlinewidth": 0,
              "ticks": ""
             }
            },
            "type": "scattergeo"
           }
          ],
          "scattergl": [
           {
            "marker": {
             "colorbar": {
              "outlinewidth": 0,
              "ticks": ""
             }
            },
            "type": "scattergl"
           }
          ],
          "scattermapbox": [
           {
            "marker": {
             "colorbar": {
              "outlinewidth": 0,
              "ticks": ""
             }
            },
            "type": "scattermapbox"
           }
          ],
          "scatterpolar": [
           {
            "marker": {
             "colorbar": {
              "outlinewidth": 0,
              "ticks": ""
             }
            },
            "type": "scatterpolar"
           }
          ],
          "scatterpolargl": [
           {
            "marker": {
             "colorbar": {
              "outlinewidth": 0,
              "ticks": ""
             }
            },
            "type": "scatterpolargl"
           }
          ],
          "scatterternary": [
           {
            "marker": {
             "colorbar": {
              "outlinewidth": 0,
              "ticks": ""
             }
            },
            "type": "scatterternary"
           }
          ],
          "surface": [
           {
            "colorbar": {
             "outlinewidth": 0,
             "ticks": ""
            },
            "colorscale": [
             [
              0,
              "#0d0887"
             ],
             [
              0.1111111111111111,
              "#46039f"
             ],
             [
              0.2222222222222222,
              "#7201a8"
             ],
             [
              0.3333333333333333,
              "#9c179e"
             ],
             [
              0.4444444444444444,
              "#bd3786"
             ],
             [
              0.5555555555555556,
              "#d8576b"
             ],
             [
              0.6666666666666666,
              "#ed7953"
             ],
             [
              0.7777777777777778,
              "#fb9f3a"
             ],
             [
              0.8888888888888888,
              "#fdca26"
             ],
             [
              1,
              "#f0f921"
             ]
            ],
            "type": "surface"
           }
          ],
          "table": [
           {
            "cells": {
             "fill": {
              "color": "#EBF0F8"
             },
             "line": {
              "color": "white"
             }
            },
            "header": {
             "fill": {
              "color": "#C8D4E3"
             },
             "line": {
              "color": "white"
             }
            },
            "type": "table"
           }
          ]
         },
         "layout": {
          "annotationdefaults": {
           "arrowcolor": "#2a3f5f",
           "arrowhead": 0,
           "arrowwidth": 1
          },
          "autotypenumbers": "strict",
          "coloraxis": {
           "colorbar": {
            "outlinewidth": 0,
            "ticks": ""
           }
          },
          "colorscale": {
           "diverging": [
            [
             0,
             "#8e0152"
            ],
            [
             0.1,
             "#c51b7d"
            ],
            [
             0.2,
             "#de77ae"
            ],
            [
             0.3,
             "#f1b6da"
            ],
            [
             0.4,
             "#fde0ef"
            ],
            [
             0.5,
             "#f7f7f7"
            ],
            [
             0.6,
             "#e6f5d0"
            ],
            [
             0.7,
             "#b8e186"
            ],
            [
             0.8,
             "#7fbc41"
            ],
            [
             0.9,
             "#4d9221"
            ],
            [
             1,
             "#276419"
            ]
           ],
           "sequential": [
            [
             0,
             "#0d0887"
            ],
            [
             0.1111111111111111,
             "#46039f"
            ],
            [
             0.2222222222222222,
             "#7201a8"
            ],
            [
             0.3333333333333333,
             "#9c179e"
            ],
            [
             0.4444444444444444,
             "#bd3786"
            ],
            [
             0.5555555555555556,
             "#d8576b"
            ],
            [
             0.6666666666666666,
             "#ed7953"
            ],
            [
             0.7777777777777778,
             "#fb9f3a"
            ],
            [
             0.8888888888888888,
             "#fdca26"
            ],
            [
             1,
             "#f0f921"
            ]
           ],
           "sequentialminus": [
            [
             0,
             "#0d0887"
            ],
            [
             0.1111111111111111,
             "#46039f"
            ],
            [
             0.2222222222222222,
             "#7201a8"
            ],
            [
             0.3333333333333333,
             "#9c179e"
            ],
            [
             0.4444444444444444,
             "#bd3786"
            ],
            [
             0.5555555555555556,
             "#d8576b"
            ],
            [
             0.6666666666666666,
             "#ed7953"
            ],
            [
             0.7777777777777778,
             "#fb9f3a"
            ],
            [
             0.8888888888888888,
             "#fdca26"
            ],
            [
             1,
             "#f0f921"
            ]
           ]
          },
          "colorway": [
           "#636efa",
           "#EF553B",
           "#00cc96",
           "#ab63fa",
           "#FFA15A",
           "#19d3f3",
           "#FF6692",
           "#B6E880",
           "#FF97FF",
           "#FECB52"
          ],
          "font": {
           "color": "#2a3f5f"
          },
          "geo": {
           "bgcolor": "white",
           "lakecolor": "white",
           "landcolor": "#E5ECF6",
           "showlakes": true,
           "showland": true,
           "subunitcolor": "white"
          },
          "hoverlabel": {
           "align": "left"
          },
          "hovermode": "closest",
          "mapbox": {
           "style": "light"
          },
          "paper_bgcolor": "white",
          "plot_bgcolor": "#E5ECF6",
          "polar": {
           "angularaxis": {
            "gridcolor": "white",
            "linecolor": "white",
            "ticks": ""
           },
           "bgcolor": "#E5ECF6",
           "radialaxis": {
            "gridcolor": "white",
            "linecolor": "white",
            "ticks": ""
           }
          },
          "scene": {
           "xaxis": {
            "backgroundcolor": "#E5ECF6",
            "gridcolor": "white",
            "gridwidth": 2,
            "linecolor": "white",
            "showbackground": true,
            "ticks": "",
            "zerolinecolor": "white"
           },
           "yaxis": {
            "backgroundcolor": "#E5ECF6",
            "gridcolor": "white",
            "gridwidth": 2,
            "linecolor": "white",
            "showbackground": true,
            "ticks": "",
            "zerolinecolor": "white"
           },
           "zaxis": {
            "backgroundcolor": "#E5ECF6",
            "gridcolor": "white",
            "gridwidth": 2,
            "linecolor": "white",
            "showbackground": true,
            "ticks": "",
            "zerolinecolor": "white"
           }
          },
          "shapedefaults": {
           "line": {
            "color": "#2a3f5f"
           }
          },
          "ternary": {
           "aaxis": {
            "gridcolor": "white",
            "linecolor": "white",
            "ticks": ""
           },
           "baxis": {
            "gridcolor": "white",
            "linecolor": "white",
            "ticks": ""
           },
           "bgcolor": "#E5ECF6",
           "caxis": {
            "gridcolor": "white",
            "linecolor": "white",
            "ticks": ""
           }
          },
          "title": {
           "x": 0.05
          },
          "xaxis": {
           "automargin": true,
           "gridcolor": "white",
           "linecolor": "white",
           "ticks": "",
           "title": {
            "standoff": 15
           },
           "zerolinecolor": "white",
           "zerolinewidth": 2
          },
          "yaxis": {
           "automargin": true,
           "gridcolor": "white",
           "linecolor": "white",
           "ticks": "",
           "title": {
            "standoff": 15
           },
           "zerolinecolor": "white",
           "zerolinewidth": 2
          }
         }
        },
        "title": {
         "text": "Interaktywny Wykres Klastrowania KMeans 3D"
        }
       }
      }
     },
     "metadata": {},
     "output_type": "display_data"
    }
   ],
   "source": [
    "import plotly.express as px\n",
    "\n",
    "# Przygotowanie danych do wizualizacji (upewnij się, że 'Cluster' jest już dodany do data_for_clustering)\n",
    "plot_data = data_for_clustering.copy()\n",
    "\n",
    "# Utwórz mapowanie numerów klastrów do etykiet próbek, jeśli to konieczne\n",
    "cluster_to_label_mapping = {\n",
    "    0: 'Próbka 1',\n",
    "    1: 'Próbka 2',\n",
    "    2: 'Próbka 3',\n",
    "    3: 'Próbka 4'\n",
    "}\n",
    "plot_data['Cluster_Label'] = plot_data['Cluster'].map(cluster_to_label_mapping)\n",
    "\n",
    "# Utwórz interaktywny wykres 3D\n",
    "fig = px.scatter_3d(plot_data, x='Ra', y='Rz', z='Rt',\n",
    "                    color='Cluster_Label', \n",
    "                    labels={'Cluster_Label': 'Klaster'},\n",
    "                    title='Interaktywny Wykres Klastrowania KMeans 3D')\n",
    "fig.update_traces(marker=dict(size=5))\n",
    "fig.show()"
   ]
  },
  {
   "cell_type": "code",
   "execution_count": 46,
   "metadata": {},
   "outputs": [
    {
     "name": "stderr",
     "output_type": "stream",
     "text": [
      "c:\\ProgramData\\anaconda3\\Lib\\site-packages\\sklearn\\cluster\\_kmeans.py:1412: FutureWarning:\n",
      "\n",
      "The default value of `n_init` will change from 10 to 'auto' in 1.4. Set the value of `n_init` explicitly to suppress the warning\n",
      "\n",
      "c:\\ProgramData\\anaconda3\\Lib\\site-packages\\sklearn\\cluster\\_kmeans.py:1436: UserWarning:\n",
      "\n",
      "KMeans is known to have a memory leak on Windows with MKL, when there are less chunks than available threads. You can avoid it by setting the environment variable OMP_NUM_THREADS=1.\n",
      "\n"
     ]
    },
    {
     "data": {
      "image/png": "[encoded data removed]",
      "text/plain": [
       "<Figure size 1000x800 with 1 Axes>"
      ]
     },
     "metadata": {},
     "output_type": "display_data"
    }
   ],
   "source": [
    "# Filtracja danych do klastrowania dla wybranych próbek i parametrów\n",
    "data_for_clustering = sample_data[sample_data['Sample_Section'].isin(wybrane_probki)][['Sample_Section', 'Ra', 'Rz', 'Rt']]\n",
    "\n",
    "# Liczba klastrów\n",
    "n_clusters = 2\n",
    "\n",
    "# Trenowanie modelu KMeans\n",
    "kmeans = KMeans(n_clusters=n_clusters, random_state=0)\n",
    "clusters = kmeans.fit_predict(data_for_clustering[['Ra', 'Rz', 'Rt']])\n",
    "\n",
    "\n",
    "# Dodanie informacji o przynależności do klastra do danych\n",
    "data_for_clustering['Cluster'] = clusters\n",
    "\n",
    "# Przygotowanie danych do wizualizacji\n",
    "plot_data = data_for_clustering.copy()\n",
    "\n",
    "# Tworzenie wykresu 3D\n",
    "fig = plt.figure(figsize=(10, 8))\n",
    "ax = fig.add_subplot(111, projection='3d')\n",
    "\n",
    "# Mapowanie numerów klastrów do etykiet próbek\n",
    "cluster_to_label_mapping = {\n",
    "    0: 'Próbka 1',\n",
    "    1: 'Próbka 2',\n",
    "    2: 'Próbka 3',\n",
    "    3: 'Próbka 4'\n",
    "}\n",
    "plot_data['Cluster_Label'] = plot_data['Cluster'].map(cluster_to_label_mapping)\n",
    "\n",
    "# Wizualizacja klastrów w 3D\n",
    "scatter = ax.scatter(plot_data['Ra'], plot_data['Rz'], plot_data['Rt'], c=plot_data['Cluster'], cmap='viridis', s=100, label=plot_data['Cluster_Label'])\n",
    "\n",
    "# Wizualizacja centrów klastrów\n",
    "centers = kmeans.cluster_centers_\n",
    "ax.scatter(centers[:, 0], centers[:, 1], centers[:, 2], c='red', s=200, alpha=0.5)\n",
    "\n",
    "# Legenda z etykietami próbek\n",
    "legend1 = ax.legend(*scatter.legend_elements(), title=\"Klaster\")\n",
    "ax.add_artist(legend1)\n",
    "# Dodajemy etykiety dla legendy klastrów\n",
    "ax.legend(handles=scatter.legend_elements()[0], labels=list(cluster_to_label_mapping.values()), title=\"Klaster\")\n",
    "\n",
    "ax.set_title('Wyniki Klastrowania KMeans 3D')\n",
    "ax.set_xlabel('Ra')\n",
    "ax.set_ylabel('Rz')\n",
    "ax.set_zlabel('Rt')\n",
    "plt.show()"
   ]
  },
  {
   "cell_type": "code",
   "execution_count": 51,
   "metadata": {},
   "outputs": [
    {
     "data": {
      "application/vnd.plotly.v1+json": {
       "config": {
        "plotlyServerURL": "https://plot.ly"
       },
       "data": [
        {
         "hovertemplate": "Klaster=red<br>Ra=%{x}<br>Rz=%{y}<br>Rt=%{z}<extra></extra>",
         "legendgroup": "red",
         "marker": {
          "color": "#636efa",
          "size": 5,
          "symbol": "circle"
         },
         "mode": "markers",
         "name": "red",
         "scene": "scene",
         "showlegend": true,
         "type": "scatter3d",
         "x": [
          0.283,
          0.282,
          0.254,
          0.285,
          0.29,
          0.306,
          0.291,
          0.293,
          0.237,
          0.279,
          0.171,
          0.221,
          0.178,
          0.173,
          0.163
         ],
         "y": [
          1.29,
          1.34,
          1.32,
          1.43,
          1.41,
          1.51,
          1.39,
          1.57,
          1.14,
          1.35,
          0.853,
          1.11,
          0.984,
          0.877,
          0.826
         ],
         "z": [
          1.91,
          1.71,
          1.76,
          1.92,
          1.77,
          1.99,
          1.89,
          2.03,
          1.76,
          1.84,
          1.02,
          2.05,
          1.44,
          1.13,
          1.32
         ]
        },
        {
         "hovertemplate": "Klaster=green<br>Ra=%{x}<br>Rz=%{y}<br>Rt=%{z}<extra></extra>",
         "legendgroup": "green",
         "marker": {
          "color": "#EF553B",
          "size": 5,
          "symbol": "circle"
         },
         "mode": "markers",
         "name": "green",
         "scene": "scene",
         "showlegend": true,
         "type": "scatter3d",
         "x": [
          0.252,
          0.241,
          0.264,
          0.266,
          0.276,
          0.27,
          0.302,
          0.331,
          0.294,
          0.259,
          0.265,
          0.241,
          0.321,
          0.301,
          0.282
         ],
         "y": [
          1.18,
          1.28,
          1.32,
          1.25,
          1.36,
          1.23,
          1.52,
          1.64,
          1.53,
          1.17,
          1.27,
          1.36,
          1.41,
          1.53,
          1.47
         ],
         "z": [
          1.79,
          1.56,
          1.84,
          2.09,
          1.87,
          1.7,
          2.19,
          2.26,
          2.44,
          1.76,
          1.97,
          2.17,
          1.98,
          2.78,
          2.39
         ]
        },
        {
         "hovertemplate": "Klaster=yellow<br>Ra=%{x}<br>Rz=%{y}<br>Rt=%{z}<extra></extra>",
         "legendgroup": "yellow",
         "marker": {
          "color": "#00cc96",
          "size": 5,
          "symbol": "circle"
         },
         "mode": "markers",
         "name": "yellow",
         "scene": "scene",
         "showlegend": true,
         "type": "scatter3d",
         "x": [
          0.238,
          0.181,
          0.176,
          0.212,
          0.205,
          0.233,
          0.255,
          0.252,
          0.25,
          0.305,
          0.242,
          0.216,
          0.225,
          0.181,
          0.177
         ],
         "y": [
          1.27,
          0.972,
          0.877,
          1.1,
          1.07,
          1.3,
          1.49,
          1.26,
          1.33,
          1.63,
          1.26,
          1.17,
          1.36,
          0.947,
          0.973
         ],
         "z": [
          1.86,
          1.23,
          1.3,
          1.4,
          1.85,
          2.49,
          2.54,
          2.26,
          2.1,
          2.21,
          2.49,
          1.56,
          2.24,
          1.39,
          1.51
         ]
        },
        {
         "hovertemplate": "Klaster=blue<br>Ra=%{x}<br>Rz=%{y}<br>Rt=%{z}<extra></extra>",
         "legendgroup": "blue",
         "marker": {
          "color": "#ab63fa",
          "size": 5,
          "symbol": "circle"
         },
         "mode": "markers",
         "name": "blue",
         "scene": "scene",
         "showlegend": true,
         "type": "scatter3d",
         "x": [
          0.195,
          0.147,
          0.136,
          0.146,
          0.131,
          0.17,
          0.157,
          0.257,
          0.183,
          0.175,
          0.15,
          0.135,
          0.12,
          0.129,
          0.216
         ],
         "y": [
          0.797,
          0.678,
          0.693,
          0.706,
          0.642,
          0.814,
          0.809,
          1.08,
          0.777,
          0.761,
          0.767,
          0.605,
          0.574,
          0.607,
          0.835
         ],
         "z": [
          1.03,
          0.923,
          1.11,
          1.21,
          0.96,
          1.16,
          1.64,
          1.98,
          1.26,
          1.05,
          0.972,
          0.925,
          0.824,
          0.78,
          1.24
         ]
        }
       ],
       "layout": {
        "legend": {
         "title": {
          "text": "Klaster"
         },
         "tracegroupgap": 0
        },
        "scene": {
         "domain": {
          "x": [
           0,
           1
          ],
          "y": [
           0,
           1
          ]
         },
         "xaxis": {
          "title": {
           "text": "Ra"
          }
         },
         "yaxis": {
          "title": {
           "text": "Rz"
          }
         },
         "zaxis": {
          "title": {
           "text": "Rt"
          }
         }
        },
        "template": {
         "data": {
          "bar": [
           {
            "error_x": {
             "color": "#2a3f5f"
            },
            "error_y": {
             "color": "#2a3f5f"
            },
            "marker": {
             "line": {
              "color": "#E5ECF6",
              "width": 0.5
             },
             "pattern": {
              "fillmode": "overlay",
              "size": 10,
              "solidity": 0.2
             }
            },
            "type": "bar"
           }
          ],
          "barpolar": [
           {
            "marker": {
             "line": {
              "color": "#E5ECF6",
              "width": 0.5
             },
             "pattern": {
              "fillmode": "overlay",
              "size": 10,
              "solidity": 0.2
             }
            },
            "type": "barpolar"
           }
          ],
          "carpet": [
           {
            "aaxis": {
             "endlinecolor": "#2a3f5f",
             "gridcolor": "white",
             "linecolor": "white",
             "minorgridcolor": "white",
             "startlinecolor": "#2a3f5f"
            },
            "baxis": {
             "endlinecolor": "#2a3f5f",
             "gridcolor": "white",
             "linecolor": "white",
             "minorgridcolor": "white",
             "startlinecolor": "#2a3f5f"
            },
            "type": "carpet"
           }
          ],
          "choropleth": [
           {
            "colorbar": {
             "outlinewidth": 0,
             "ticks": ""
            },
            "type": "choropleth"
           }
          ],
          "contour": [
           {
            "colorbar": {
             "outlinewidth": 0,
             "ticks": ""
            },
            "colorscale": [
             [
              0,
              "#0d0887"
             ],
             [
              0.1111111111111111,
              "#46039f"
             ],
             [
              0.2222222222222222,
              "#7201a8"
             ],
             [
              0.3333333333333333,
              "#9c179e"
             ],
             [
              0.4444444444444444,
              "#bd3786"
             ],
             [
              0.5555555555555556,
              "#d8576b"
             ],
             [
              0.6666666666666666,
              "#ed7953"
             ],
             [
              0.7777777777777778,
              "#fb9f3a"
             ],
             [
              0.8888888888888888,
              "#fdca26"
             ],
             [
              1,
              "#f0f921"
             ]
            ],
            "type": "contour"
           }
          ],
          "contourcarpet": [
           {
            "colorbar": {
             "outlinewidth": 0,
             "ticks": ""
            },
            "type": "contourcarpet"
           }
          ],
          "heatmap": [
           {
            "colorbar": {
             "outlinewidth": 0,
             "ticks": ""
            },
            "colorscale": [
             [
              0,
              "#0d0887"
             ],
             [
              0.1111111111111111,
              "#46039f"
             ],
             [
              0.2222222222222222,
              "#7201a8"
             ],
             [
              0.3333333333333333,
              "#9c179e"
             ],
             [
              0.4444444444444444,
              "#bd3786"
             ],
             [
              0.5555555555555556,
              "#d8576b"
             ],
             [
              0.6666666666666666,
              "#ed7953"
             ],
             [
              0.7777777777777778,
              "#fb9f3a"
             ],
             [
              0.8888888888888888,
              "#fdca26"
             ],
             [
              1,
              "#f0f921"
             ]
            ],
            "type": "heatmap"
           }
          ],
          "heatmapgl": [
           {
            "colorbar": {
             "outlinewidth": 0,
             "ticks": ""
            },
            "colorscale": [
             [
              0,
              "#0d0887"
             ],
             [
              0.1111111111111111,
              "#46039f"
             ],
             [
              0.2222222222222222,
              "#7201a8"
             ],
             [
              0.3333333333333333,
              "#9c179e"
             ],
             [
              0.4444444444444444,
              "#bd3786"
             ],
             [
              0.5555555555555556,
              "#d8576b"
             ],
             [
              0.6666666666666666,
              "#ed7953"
             ],
             [
              0.7777777777777778,
              "#fb9f3a"
             ],
             [
              0.8888888888888888,
              "#fdca26"
             ],
             [
              1,
              "#f0f921"
             ]
            ],
            "type": "heatmapgl"
           }
          ],
          "histogram": [
           {
            "marker": {
             "pattern": {
              "fillmode": "overlay",
              "size": 10,
              "solidity": 0.2
             }
            },
            "type": "histogram"
           }
          ],
          "histogram2d": [
           {
            "colorbar": {
             "outlinewidth": 0,
             "ticks": ""
            },
            "colorscale": [
             [
              0,
              "#0d0887"
             ],
             [
              0.1111111111111111,
              "#46039f"
             ],
             [
              0.2222222222222222,
              "#7201a8"
             ],
             [
              0.3333333333333333,
              "#9c179e"
             ],
             [
              0.4444444444444444,
              "#bd3786"
             ],
             [
              0.5555555555555556,
              "#d8576b"
             ],
             [
              0.6666666666666666,
              "#ed7953"
             ],
             [
              0.7777777777777778,
              "#fb9f3a"
             ],
             [
              0.8888888888888888,
              "#fdca26"
             ],
             [
              1,
              "#f0f921"
             ]
            ],
            "type": "histogram2d"
           }
          ],
          "histogram2dcontour": [
           {
            "colorbar": {
             "outlinewidth": 0,
             "ticks": ""
            },
            "colorscale": [
             [
              0,
              "#0d0887"
             ],
             [
              0.1111111111111111,
              "#46039f"
             ],
             [
              0.2222222222222222,
              "#7201a8"
             ],
             [
              0.3333333333333333,
              "#9c179e"
             ],
             [
              0.4444444444444444,
              "#bd3786"
             ],
             [
              0.5555555555555556,
              "#d8576b"
             ],
             [
              0.6666666666666666,
              "#ed7953"
             ],
             [
              0.7777777777777778,
              "#fb9f3a"
             ],
             [
              0.8888888888888888,
              "#fdca26"
             ],
             [
              1,
              "#f0f921"
             ]
            ],
            "type": "histogram2dcontour"
           }
          ],
          "mesh3d": [
           {
            "colorbar": {
             "outlinewidth": 0,
             "ticks": ""
            },
            "type": "mesh3d"
           }
          ],
          "parcoords": [
           {
            "line": {
             "colorbar": {
              "outlinewidth": 0,
              "ticks": ""
             }
            },
            "type": "parcoords"
           }
          ],
          "pie": [
           {
            "automargin": true,
            "type": "pie"
           }
          ],
          "scatter": [
           {
            "fillpattern": {
             "fillmode": "overlay",
             "size": 10,
             "solidity": 0.2
            },
            "type": "scatter"
           }
          ],
          "scatter3d": [
           {
            "line": {
             "colorbar": {
              "outlinewidth": 0,
              "ticks": ""
             }
            },
            "marker": {
             "colorbar": {
              "outlinewidth": 0,
              "ticks": ""
             }
            },
            "type": "scatter3d"
           }
          ],
          "scattercarpet": [
           {
            "marker": {
             "colorbar": {
              "outlinewidth": 0,
              "ticks": ""
             }
            },
            "type": "scattercarpet"
           }
          ],
          "scattergeo": [
           {
            "marker": {
             "colorbar": {
              "outlinewidth": 0,
              "ticks": ""
             }
            },
            "type": "scattergeo"
           }
          ],
          "scattergl": [
           {
            "marker": {
             "colorbar": {
              "outlinewidth": 0,
              "ticks": ""
             }
            },
            "type": "scattergl"
           }
          ],
          "scattermapbox": [
           {
            "marker": {
             "colorbar": {
              "outlinewidth": 0,
              "ticks": ""
             }
            },
            "type": "scattermapbox"
           }
          ],
          "scatterpolar": [
           {
            "marker": {
             "colorbar": {
              "outlinewidth": 0,
              "ticks": ""
             }
            },
            "type": "scatterpolar"
           }
          ],
          "scatterpolargl": [
           {
            "marker": {
             "colorbar": {
              "outlinewidth": 0,
              "ticks": ""
             }
            },
            "type": "scatterpolargl"
           }
          ],
          "scatterternary": [
           {
            "marker": {
             "colorbar": {
              "outlinewidth": 0,
              "ticks": ""
             }
            },
            "type": "scatterternary"
           }
          ],
          "surface": [
           {
            "colorbar": {
             "outlinewidth": 0,
             "ticks": ""
            },
            "colorscale": [
             [
              0,
              "#0d0887"
             ],
             [
              0.1111111111111111,
              "#46039f"
             ],
             [
              0.2222222222222222,
              "#7201a8"
             ],
             [
              0.3333333333333333,
              "#9c179e"
             ],
             [
              0.4444444444444444,
              "#bd3786"
             ],
             [
              0.5555555555555556,
              "#d8576b"
             ],
             [
              0.6666666666666666,
              "#ed7953"
             ],
             [
              0.7777777777777778,
              "#fb9f3a"
             ],
             [
              0.8888888888888888,
              "#fdca26"
             ],
             [
              1,
              "#f0f921"
             ]
            ],
            "type": "surface"
           }
          ],
          "table": [
           {
            "cells": {
             "fill": {
              "color": "#EBF0F8"
             },
             "line": {
              "color": "white"
             }
            },
            "header": {
             "fill": {
              "color": "#C8D4E3"
             },
             "line": {
              "color": "white"
             }
            },
            "type": "table"
           }
          ]
         },
         "layout": {
          "annotationdefaults": {
           "arrowcolor": "#2a3f5f",
           "arrowhead": 0,
           "arrowwidth": 1
          },
          "autotypenumbers": "strict",
          "coloraxis": {
           "colorbar": {
            "outlinewidth": 0,
            "ticks": ""
           }
          },
          "colorscale": {
           "diverging": [
            [
             0,
             "#8e0152"
            ],
            [
             0.1,
             "#c51b7d"
            ],
            [
             0.2,
             "#de77ae"
            ],
            [
             0.3,
             "#f1b6da"
            ],
            [
             0.4,
             "#fde0ef"
            ],
            [
             0.5,
             "#f7f7f7"
            ],
            [
             0.6,
             "#e6f5d0"
            ],
            [
             0.7,
             "#b8e186"
            ],
            [
             0.8,
             "#7fbc41"
            ],
            [
             0.9,
             "#4d9221"
            ],
            [
             1,
             "#276419"
            ]
           ],
           "sequential": [
            [
             0,
             "#0d0887"
            ],
            [
             0.1111111111111111,
             "#46039f"
            ],
            [
             0.2222222222222222,
             "#7201a8"
            ],
            [
             0.3333333333333333,
             "#9c179e"
            ],
            [
             0.4444444444444444,
             "#bd3786"
            ],
            [
             0.5555555555555556,
             "#d8576b"
            ],
            [
             0.6666666666666666,
             "#ed7953"
            ],
            [
             0.7777777777777778,
             "#fb9f3a"
            ],
            [
             0.8888888888888888,
             "#fdca26"
            ],
            [
             1,
             "#f0f921"
            ]
           ],
           "sequentialminus": [
            [
             0,
             "#0d0887"
            ],
            [
             0.1111111111111111,
             "#46039f"
            ],
            [
             0.2222222222222222,
             "#7201a8"
            ],
            [
             0.3333333333333333,
             "#9c179e"
            ],
            [
             0.4444444444444444,
             "#bd3786"
            ],
            [
             0.5555555555555556,
             "#d8576b"
            ],
            [
             0.6666666666666666,
             "#ed7953"
            ],
            [
             0.7777777777777778,
             "#fb9f3a"
            ],
            [
             0.8888888888888888,
             "#fdca26"
            ],
            [
             1,
             "#f0f921"
            ]
           ]
          },
          "colorway": [
           "#636efa",
           "#EF553B",
           "#00cc96",
           "#ab63fa",
           "#FFA15A",
           "#19d3f3",
           "#FF6692",
           "#B6E880",
           "#FF97FF",
           "#FECB52"
          ],
          "font": {
           "color": "#2a3f5f"
          },
          "geo": {
           "bgcolor": "white",
           "lakecolor": "white",
           "landcolor": "#E5ECF6",
           "showlakes": true,
           "showland": true,
           "subunitcolor": "white"
          },
          "hoverlabel": {
           "align": "left"
          },
          "hovermode": "closest",
          "mapbox": {
           "style": "light"
          },
          "paper_bgcolor": "white",
          "plot_bgcolor": "#E5ECF6",
          "polar": {
           "angularaxis": {
            "gridcolor": "white",
            "linecolor": "white",
            "ticks": ""
           },
           "bgcolor": "#E5ECF6",
           "radialaxis": {
            "gridcolor": "white",
            "linecolor": "white",
            "ticks": ""
           }
          },
          "scene": {
           "xaxis": {
            "backgroundcolor": "#E5ECF6",
            "gridcolor": "white",
            "gridwidth": 2,
            "linecolor": "white",
            "showbackground": true,
            "ticks": "",
            "zerolinecolor": "white"
           },
           "yaxis": {
            "backgroundcolor": "#E5ECF6",
            "gridcolor": "white",
            "gridwidth": 2,
            "linecolor": "white",
            "showbackground": true,
            "ticks": "",
            "zerolinecolor": "white"
           },
           "zaxis": {
            "backgroundcolor": "#E5ECF6",
            "gridcolor": "white",
            "gridwidth": 2,
            "linecolor": "white",
            "showbackground": true,
            "ticks": "",
            "zerolinecolor": "white"
           }
          },
          "shapedefaults": {
           "line": {
            "color": "#2a3f5f"
           }
          },
          "ternary": {
           "aaxis": {
            "gridcolor": "white",
            "linecolor": "white",
            "ticks": ""
           },
           "baxis": {
            "gridcolor": "white",
            "linecolor": "white",
            "ticks": ""
           },
           "bgcolor": "#E5ECF6",
           "caxis": {
            "gridcolor": "white",
            "linecolor": "white",
            "ticks": ""
           }
          },
          "title": {
           "x": 0.05
          },
          "xaxis": {
           "automargin": true,
           "gridcolor": "white",
           "linecolor": "white",
           "ticks": "",
           "title": {
            "standoff": 15
           },
           "zerolinecolor": "white",
           "zerolinewidth": 2
          },
          "yaxis": {
           "automargin": true,
           "gridcolor": "white",
           "linecolor": "white",
           "ticks": "",
           "title": {
            "standoff": 15
           },
           "zerolinecolor": "white",
           "zerolinewidth": 2
          }
         }
        },
        "title": {
         "text": "Interaktywny Wykres Klastrowania KMeans 3D"
        }
       }
      }
     },
     "metadata": {},
     "output_type": "display_data"
    }
   ],
   "source": [
    "# Przygotowanie danych do wizualizacji (upewnij się, że 'Cluster' jest już dodany do data_for_clustering)\n",
    "plot_data = data_for_clustering.copy()\n",
    "\n",
    "color_map = {\n",
    "    '208250_1': 'blue',\n",
    "    '79028_1': 'green',\n",
    "    '51824_2': 'red', \n",
    "    '88911_2': 'yellow',\n",
    "}\n",
    "\n",
    "# Utwórz mapowanie numerów klastrów do etykiet próbek, jeśli to konieczne\n",
    "cluster_to_label_mapping = {\n",
    "    0: 'Próbka 1',\n",
    "    1: 'Próbka 2',\n",
    "}\n",
    "plot_data['Color'] = plot_data['Sample_Section'].map(color_map)\n",
    "\n",
    "# Utwórz interaktywny wykres 3D\n",
    "fig = px.scatter_3d(plot_data, x='Ra', y='Rz', z='Rt',\n",
    "                    color='Color', \n",
    "                    labels={'Color': 'Klaster'},\n",
    "                    title='Interaktywny Wykres Klastrowania KMeans 3D')\n",
    "fig.update_traces(marker=dict(size=5))\n",
    "fig.show()"
   ]
  },
  {
   "cell_type": "code",
   "execution_count": null,
   "metadata": {},
   "outputs": [],
   "source": []
  }
 ],
 "metadata": {
  "kernelspec": {
   "display_name": "base",
   "language": "python",
   "name": "python3"
  },
  "language_info": {
   "codemirror_mode": {
    "name": "ipython",
    "version": 3
   },
   "file_extension": ".py",
   "mimetype": "text/x-python",
   "name": "python",
   "nbconvert_exporter": "python",
   "pygments_lexer": "ipython3",
   "version": "3.11.7"
  }
 },
 "nbformat": 4,
 "nbformat_minor": 2
}
